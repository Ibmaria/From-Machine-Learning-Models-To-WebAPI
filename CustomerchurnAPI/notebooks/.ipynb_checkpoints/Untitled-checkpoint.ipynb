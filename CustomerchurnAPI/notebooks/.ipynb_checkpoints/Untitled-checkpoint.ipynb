{
 "cells": [
  {
   "cell_type": "code",
   "execution_count": null,
   "id": "2b1b51cf",
   "metadata": {},
   "outputs": [],
   "source": [
    "def remove_outliers(train,labels):\n",
    "    for label in labels:\n",
    "        q1 = train[label].quantile(0.25)\n",
    "        q3 = train[label].quantile(0.75)\n",
    "        iqr = q3 - q1\n",
    "        upper_bound = q3 + 1.5 * iqr\n",
    "        lower_bound = q1 - 1.5 * iqr\n",
    "        train[label] = train[label].mask(train[label]< lower_bound, train[label].median(),axis=0)\n",
    "        train[label] = train[label].mask(train[label]> upper_bound, train[label].median(),axis=0)\n",
    "\n",
    "    return train"
   ]
  }
 ],
 "metadata": {
  "kernelspec": {
   "display_name": "Python 3",
   "language": "python",
   "name": "python3"
  },
  "language_info": {
   "codemirror_mode": {
    "name": "ipython",
    "version": 3
   },
   "file_extension": ".py",
   "mimetype": "text/x-python",
   "name": "python",
   "nbconvert_exporter": "python",
   "pygments_lexer": "ipython3",
   "version": "3.8.8"
  }
 },
 "nbformat": 4,
 "nbformat_minor": 5
}
