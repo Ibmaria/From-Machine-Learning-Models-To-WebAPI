{
 "cells": [
  {
   "cell_type": "code",
   "execution_count": 1,
   "metadata": {
    "colab": {
     "base_uri": "https://localhost:8080/"
    },
    "executionInfo": {
     "elapsed": 46555,
     "status": "ok",
     "timestamp": 1609411781624,
     "user": {
      "displayName": "ibrahim kone",
      "photoUrl": "",
      "userId": "02753287663478591702"
     },
     "user_tz": -60
    },
    "id": "5S5FC-SZs3Kz",
    "outputId": "d80566cf-3ef7-41d3-c872-a68fb57e4b31"
   },
   "outputs": [
    {
     "name": "stdout",
     "output_type": "stream",
     "text": [
      "Mounted at /gdrive\n",
      "/gdrive/My Drive/wikipedia\n"
     ]
    }
   ],
   "source": [
    "from google.colab import drive\n",
    " \n",
    "drive.mount('/gdrive')\n",
    "# the project's folder\n",
    "%cd /gdrive/'My Drive'/wikipedia"
   ]
  },
  {
   "cell_type": "code",
   "execution_count": 1,
   "metadata": {
    "executionInfo": {
     "elapsed": 1425,
     "status": "ok",
     "timestamp": 1609411786132,
     "user": {
      "displayName": "ibrahim kone",
      "photoUrl": "",
      "userId": "02753287663478591702"
     },
     "user_tz": -60
    },
    "id": "PM_jlkeAl5mg"
   },
   "outputs": [],
   "source": [
    "import requests\n",
    "from bs4 import BeautifulSoup\n",
    "import os"
   ]
  },
  {
   "cell_type": "code",
   "execution_count": 2,
   "metadata": {},
   "outputs": [
    {
     "data": {
      "text/plain": [
       "['../',\n",
       " '20201001/',\n",
       " '20201020/',\n",
       " '20201101/',\n",
       " '20201120/',\n",
       " '20201201/',\n",
       " '20201220/',\n",
       " '20210101/',\n",
       " 'latest/']"
      ]
     },
     "execution_count": 2,
     "metadata": {},
     "output_type": "execute_result"
    }
   ],
   "source": [
    "url = 'https://dumps.wikimedia.org/enwiki/'\n",
    "links = requests.get(url).text\n",
    "soup = BeautifulSoup(links, 'html.parser')\n",
    "\n",
    "# Find the links that are dates of dumps\n",
    "dumps = [a['href'] for a in soup.find_all('a') if \n",
    "         a.has_attr('href')]\n",
    "dumps"
   ]
  },
  {
   "cell_type": "code",
   "execution_count": 3,
   "metadata": {
    "colab": {
     "base_uri": "https://localhost:8080/",
     "height": 139
    },
    "executionInfo": {
     "elapsed": 714,
     "status": "ok",
     "timestamp": 1609324201534,
     "user": {
      "displayName": "ibrahim kone",
      "photoUrl": "",
      "userId": "02753287663478591702"
     },
     "user_tz": -60
    },
    "id": "32zgm2pzmW2i",
    "outputId": "9af75263-8d10-4016-a083-1f683005b7e1"
   },
   "outputs": [
    {
     "data": {
      "text/plain": [
       "'<!DOCTYPE html PUBLIC \"-//W3C//DTD XHTML 1.0 Strict//EN\"\\n        \"http://www.w3.org/TR/xhtml1/DTD/xhtml1-strict.dtd\">\\n\\n<html xmlns=\"http://www.w3.org/1999/xhtml\" xml:lang=\"en\" lang=\"en\">\\n<head>\\n        <meta http-equiv=\"Content-Type\" content=\"text/html; charset=utf-8\"/>\\n        <title>enwiki dump progress on 20201220</title>\\n        <link rel=\"stylesheet\" type=\"text/css\" href=\"/dumps.css\" />\\n        <style type=\"text/css\">\\n                .siteinfo {\\n                        text-align: center;\\n                }\\n                li {\\n                        list-style-type: none;\\n                        padding: 0.5em 1.5em 0.5em 1.5em;\\n                        background: #fff;\\n                        margin-bottom: 1em;\\n                }\\n                li li {\\n                        background-color: white;\\n                        box-shadow: none;\\n                        border-top: none;\\n                        padding: 0px;\\n                        margin-bottom: 0em;\\n              '"
      ]
     },
     "execution_count": 3,
     "metadata": {},
     "output_type": "execute_result"
    }
   ],
   "source": [
    "dump_url =url + '20201220/'\n",
    "dump_html = requests.get(dump_url).text\n",
    "dump_html[:1000]"
   ]
  },
  {
   "cell_type": "code",
   "execution_count": 4,
   "metadata": {
    "colab": {
     "base_uri": "https://localhost:8080/"
    },
    "executionInfo": {
     "elapsed": 621,
     "status": "ok",
     "timestamp": 1609324208545,
     "user": {
      "displayName": "ibrahim kone",
      "photoUrl": "",
      "userId": "02753287663478591702"
     },
     "user_tz": -60
    },
    "id": "PDscmU6loche",
    "outputId": "15805423-7aee-4aad-d83b-fba1092f7039"
   },
   "outputs": [
    {
     "data": {
      "text/plain": [
       "[<li class=\"file\"><a href=\"/enwiki/20201220/enwiki-20201220-pages-articles-multistream.xml.bz2\">enwiki-20201220-pages-articles-multistream.xml.bz2</a> 17.8 GB</li>,\n",
       " <li class=\"file\"><a href=\"/enwiki/20201220/enwiki-20201220-pages-articles-multistream-index.txt.bz2\">enwiki-20201220-pages-articles-multistream-index.txt.bz2</a> 217.8 MB</li>,\n",
       " <li class=\"file\"><a href=\"/enwiki/20201220/enwiki-20201220-pages-articles-multistream1.xml-p1p41242.bz2\">enwiki-20201220-pages-articles-multistream1.xml-p1p41242.bz2</a> 233.7 MB</li>,\n",
       " <li class=\"file\"><a href=\"/enwiki/20201220/enwiki-20201220-pages-articles-multistream-index1.txt-p1p41242.bz2\">enwiki-20201220-pages-articles-multistream-index1.txt-p1p41242.bz2</a> 221 KB</li>,\n",
       " <li class=\"file\"><a href=\"/enwiki/20201220/enwiki-20201220-pages-articles-multistream2.xml-p41243p151573.bz2\">enwiki-20201220-pages-articles-multistream2.xml-p41243p151573.bz2</a> 315.7 MB</li>,\n",
       " <li class=\"file\"><a href=\"/enwiki/20201220/enwiki-20201220-pages-articles-multistream-index2.txt-p41243p151573.bz2\">enwiki-20201220-pages-articles-multistream-index2.txt-p41243p151573.bz2</a> 638 KB</li>,\n",
       " <li class=\"file\"><a href=\"/enwiki/20201220/enwiki-20201220-pages-articles-multistream3.xml-p151574p311329.bz2\">enwiki-20201220-pages-articles-multistream3.xml-p151574p311329.bz2</a> 341.2 MB</li>,\n",
       " <li class=\"file\"><a href=\"/enwiki/20201220/enwiki-20201220-pages-articles-multistream-index3.txt-p151574p311329.bz2\">enwiki-20201220-pages-articles-multistream-index3.txt-p151574p311329.bz2</a> 821 KB</li>,\n",
       " <li class=\"file\"><a href=\"/enwiki/20201220/enwiki-20201220-pages-articles-multistream4.xml-p311330p558391.bz2\">enwiki-20201220-pages-articles-multistream4.xml-p311330p558391.bz2</a> 379.5 MB</li>,\n",
       " <li class=\"file\"><a href=\"/enwiki/20201220/enwiki-20201220-pages-articles-multistream-index4.txt-p311330p558391.bz2\">enwiki-20201220-pages-articles-multistream-index4.txt-p311330p558391.bz2</a> 1.3 MB</li>]"
      ]
     },
     "execution_count": 4,
     "metadata": {},
     "output_type": "execute_result"
    }
   ],
   "source": [
    "# Convert to a soup\n",
    "dump_wiki = BeautifulSoup(dump_html, 'html.parser')\n",
    "\n",
    "# Find li elements with the class file\n",
    "dump_wiki.find_all('li', {'class': 'file'}, limit = 10)"
   ]
  },
  {
   "cell_type": "code",
   "execution_count": 7,
   "metadata": {
    "executionInfo": {
     "elapsed": 557,
     "status": "ok",
     "timestamp": 1609324215078,
     "user": {
      "displayName": "ibrahim kone",
      "photoUrl": "",
      "userId": "02753287663478591702"
     },
     "user_tz": -60
    },
    "id": "_YoIQ__ko-ZF"
   },
   "outputs": [],
   "source": [
    "\n",
    "import bz2\n",
    "import subprocess"
   ]
  },
  {
   "cell_type": "code",
   "execution_count": 5,
   "metadata": {
    "colab": {
     "base_uri": "https://localhost:8080/"
    },
    "executionInfo": {
     "elapsed": 575,
     "status": "ok",
     "timestamp": 1609324217065,
     "user": {
      "displayName": "ibrahim kone",
      "photoUrl": "",
      "userId": "02753287663478591702"
     },
     "user_tz": -60
    },
    "id": "ry__w76ao15P",
    "outputId": "d8d88609-e204-429f-ab16-2ef9874f7b41"
   },
   "outputs": [
    {
     "data": {
      "text/plain": [
       "[('enwiki-20201220-pages-articles-multistream.xml.bz2', ['17.8', 'GB']),\n",
       " ('enwiki-20201220-pages-articles-multistream-index.txt.bz2', ['217.8', 'MB']),\n",
       " ('enwiki-20201220-pages-articles-multistream1.xml-p1p41242.bz2',\n",
       "  ['233.7', 'MB']),\n",
       " ('enwiki-20201220-pages-articles-multistream-index1.txt-p1p41242.bz2',\n",
       "  ['221', 'KB']),\n",
       " ('enwiki-20201220-pages-articles-multistream2.xml-p41243p151573.bz2',\n",
       "  ['315.7', 'MB'])]"
      ]
     },
     "execution_count": 5,
     "metadata": {},
     "output_type": "execute_result"
    }
   ],
   "source": [
    "files = []\n",
    "\n",
    "# Search through all files\n",
    "for file in dump_wiki.find_all('li', {'class': 'file'}):\n",
    "    text = file.text\n",
    "    # Select the relevant files\n",
    "    if 'pages-articles' in text:\n",
    "        files.append((text.split()[0], text.split()[1:]))\n",
    "        \n",
    "files[:5]"
   ]
  },
  {
   "cell_type": "code",
   "execution_count": 9,
   "metadata": {
    "colab": {
     "base_uri": "https://localhost:8080/"
    },
    "executionInfo": {
     "elapsed": 584,
     "status": "ok",
     "timestamp": 1609324225001,
     "user": {
      "displayName": "ibrahim kone",
      "photoUrl": "",
      "userId": "02753287663478591702"
     },
     "user_tz": -60
    },
    "id": "npAyEQiapW4l",
    "outputId": "6fb1ce08-cdd3-4b9d-c580-084a84dd41a0"
   },
   "outputs": [
    {
     "data": {
      "text/plain": [
       "['enwiki-20201220-pages-articles25.xml-p60025656p61525655.bz2',\n",
       " 'enwiki-20201220-pages-articles25.xml-p61525656p62585850.bz2',\n",
       " 'enwiki-20201220-pages-articles26.xml-p62585851p63975909.bz2',\n",
       " 'enwiki-20201220-pages-articles27.xml-p63975910p65475909.bz2',\n",
       " 'enwiki-20201220-pages-articles27.xml-p65475910p66163728.bz2']"
      ]
     },
     "execution_count": 9,
     "metadata": {
      "tags": []
     },
     "output_type": "execute_result"
    }
   ],
   "source": [
    "files_to_download = [file[0] for file in files if '.xml-p' in file[0]]\n",
    "files_to_download[-5:]"
   ]
  },
  {
   "cell_type": "code",
   "execution_count": 11,
   "metadata": {
    "executionInfo": {
     "elapsed": 543,
     "status": "ok",
     "timestamp": 1609324252181,
     "user": {
      "displayName": "ibrahim kone",
      "photoUrl": "",
      "userId": "02753287663478591702"
     },
     "user_tz": -60
    },
    "id": "pYVK6PJA0A1-"
   },
   "outputs": [],
   "source": [
    "import sys\n",
    "from keras.utils import get_file\n",
    "keras_home ='/gdrive/My Drive/wikipedia/final/.keras/datasets/'"
   ]
  },
  {
   "cell_type": "code",
   "execution_count": 12,
   "metadata": {
    "colab": {
     "base_uri": "https://localhost:8080/"
    },
    "executionInfo": {
     "elapsed": 7466395,
     "status": "ok",
     "timestamp": 1609331723441,
     "user": {
      "displayName": "ibrahim kone",
      "photoUrl": "",
      "userId": "02753287663478591702"
     },
     "user_tz": -60
    },
    "id": "OebKzcerpKBd",
    "outputId": "53d71d9f-36c8-4d35-cb7f-da95c537e328"
   },
   "outputs": [
    {
     "name": "stdout",
     "output_type": "stream",
     "text": [
      "Downloading\n",
      "Downloading data from https://dumps.wikimedia.org/enwiki/20201220/enwiki-20201220-pages-articles-multistream1.xml-p1p41242.bz2\n",
      "245047296/245044604 [==============================] - 50s 0us/step\n",
      "Downloading\n",
      "Downloading data from https://dumps.wikimedia.org/enwiki/20201220/enwiki-20201220-pages-articles-multistream2.xml-p41243p151573.bz2\n",
      "330989568/330987703 [==============================] - 66s 0us/step\n",
      "Downloading\n",
      "Downloading data from https://dumps.wikimedia.org/enwiki/20201220/enwiki-20201220-pages-articles-multistream3.xml-p151574p311329.bz2\n",
      "357826560/357820983 [==============================] - 70s 0us/step\n",
      "Downloading\n",
      "Downloading data from https://dumps.wikimedia.org/enwiki/20201220/enwiki-20201220-pages-articles-multistream4.xml-p311330p558391.bz2\n",
      "397950976/397942891 [==============================] - 80s 0us/step\n",
      "Downloading\n",
      "Downloading data from https://dumps.wikimedia.org/enwiki/20201220/enwiki-20201220-pages-articles-multistream5.xml-p558392p958045.bz2\n",
      "430809088/430806806 [==============================] - 88s 0us/step\n",
      "Downloading\n",
      "Downloading data from https://dumps.wikimedia.org/enwiki/20201220/enwiki-20201220-pages-articles-multistream6.xml-p958046p1483661.bz2\n",
      "462176256/462173012 [==============================] - 95s 0us/step\n",
      "Downloading\n",
      "Downloading data from https://dumps.wikimedia.org/enwiki/20201220/enwiki-20201220-pages-articles-multistream7.xml-p1483662p2134111.bz2\n",
      "477323264/477322805 [==============================] - 97s 0us/step\n",
      "Downloading\n",
      "Downloading data from https://dumps.wikimedia.org/enwiki/20201220/enwiki-20201220-pages-articles-multistream8.xml-p2134112p2936260.bz2\n",
      "490930176/490923288 [==============================] - 100s 0us/step\n",
      "Downloading\n",
      "Downloading data from https://dumps.wikimedia.org/enwiki/20201220/enwiki-20201220-pages-articles-multistream9.xml-p2936261p4045402.bz2\n",
      "535732224/535726515 [==============================] - 102s 0us/step\n",
      "Downloading\n",
      "Downloading data from https://dumps.wikimedia.org/enwiki/20201220/enwiki-20201220-pages-articles-multistream10.xml-p4045403p5399366.bz2\n",
      "529031168/529025810 [==============================] - 107s 0us/step\n",
      "Downloading\n",
      "Downloading data from https://dumps.wikimedia.org/enwiki/20201220/enwiki-20201220-pages-articles-multistream11.xml-p5399367p6899366.bz2\n",
      "516153344/516145503 [==============================] - 102s 0us/step\n",
      "Downloading\n",
      "Downloading data from https://dumps.wikimedia.org/enwiki/20201220/enwiki-20201220-pages-articles-multistream11.xml-p6899367p7054859.bz2\n",
      "49561600/49558189 [==============================] - 9s 0us/step\n",
      "Downloading\n",
      "Downloading data from https://dumps.wikimedia.org/enwiki/20201220/enwiki-20201220-pages-articles-multistream12.xml-p7054860p8554859.bz2\n",
      "430391296/430390110 [==============================] - 86s 0us/step\n",
      "Downloading\n",
      "Downloading data from https://dumps.wikimedia.org/enwiki/20201220/enwiki-20201220-pages-articles-multistream12.xml-p8554860p9172788.bz2\n",
      "174309376/174303222 [==============================] - 34s 0us/step\n",
      "Downloading\n",
      "Downloading data from https://dumps.wikimedia.org/enwiki/20201220/enwiki-20201220-pages-articles-multistream13.xml-p9172789p10672788.bz2\n",
      "351461376/351459045 [==============================] - 69s 0us/step\n",
      "Downloading\n",
      "Downloading data from https://dumps.wikimedia.org/enwiki/20201220/enwiki-20201220-pages-articles-multistream13.xml-p10672789p11659682.bz2\n",
      "244039680/244032048 [==============================] - 49s 0us/step\n",
      "Downloading\n",
      "Downloading data from https://dumps.wikimedia.org/enwiki/20201220/enwiki-20201220-pages-articles-multistream14.xml-p11659683p13159682.bz2\n",
      "422559744/422555690 [==============================] - 84s 0us/step\n",
      "Downloading\n",
      "Downloading data from https://dumps.wikimedia.org/enwiki/20201220/enwiki-20201220-pages-articles-multistream14.xml-p13159683p14324602.bz2\n",
      "291979264/291976898 [==============================] - 58s 0us/step\n",
      "Downloading\n",
      "Downloading data from https://dumps.wikimedia.org/enwiki/20201220/enwiki-20201220-pages-articles-multistream15.xml-p14324603p15824602.bz2\n",
      "381960192/381955508 [==============================] - 77s 0us/step\n",
      "Downloading\n",
      "i 20\n",
      "Downloading data from https://dumps.wikimedia.org/enwiki/20201220/enwiki-20201220-pages-articles-multistream15.xml-p15824603p17324602.bz2\n",
      "332668928/332666639 [==============================] - 67s 0us/step\n",
      "Downloading\n",
      "Downloading data from https://dumps.wikimedia.org/enwiki/20201220/enwiki-20201220-pages-articles-multistream15.xml-p17324603p17460152.bz2\n",
      "30203904/30201272 [==============================] - 6s 0us/step\n",
      "Downloading\n",
      "Downloading data from https://dumps.wikimedia.org/enwiki/20201220/enwiki-20201220-pages-articles-multistream16.xml-p17460153p18960152.bz2\n",
      "360488960/360483899 [==============================] - 72s 0us/step\n",
      "Downloading\n",
      "Downloading data from https://dumps.wikimedia.org/enwiki/20201220/enwiki-20201220-pages-articles-multistream16.xml-p18960153p20460152.bz2\n",
      "337330176/337325558 [==============================] - 68s 0us/step\n",
      "Downloading\n",
      "Downloading data from https://dumps.wikimedia.org/enwiki/20201220/enwiki-20201220-pages-articles-multistream16.xml-p20460153p20570392.bz2\n",
      "24461312/24460255 [==============================] - 5s 0us/step\n",
      "Downloading\n",
      "Downloading data from https://dumps.wikimedia.org/enwiki/20201220/enwiki-20201220-pages-articles-multistream17.xml-p20570393p22070392.bz2\n",
      "375939072/375931534 [==============================] - 76s 0us/step\n",
      "Downloading\n",
      "Downloading data from https://dumps.wikimedia.org/enwiki/20201220/enwiki-20201220-pages-articles-multistream17.xml-p22070393p23570392.bz2\n",
      "388022272/388019233 [==============================] - 74s 0us/step\n",
      "Downloading\n",
      "Downloading data from https://dumps.wikimedia.org/enwiki/20201220/enwiki-20201220-pages-articles-multistream17.xml-p23570393p23716197.bz2\n",
      "43302912/43296215 [==============================] - 9s 0us/step\n",
      "Downloading\n",
      "Downloading data from https://dumps.wikimedia.org/enwiki/20201220/enwiki-20201220-pages-articles-multistream18.xml-p23716198p25216197.bz2\n",
      "400957440/400955385 [==============================] - 83s 0us/step\n",
      "Downloading\n",
      "Downloading data from https://dumps.wikimedia.org/enwiki/20201220/enwiki-20201220-pages-articles-multistream18.xml-p25216198p26716197.bz2\n",
      "370368512/370363686 [==============================] - 70s 0us/step\n",
      "Downloading\n",
      "Downloading data from https://dumps.wikimedia.org/enwiki/20201220/enwiki-20201220-pages-articles-multistream18.xml-p26716198p27121850.bz2\n",
      "93970432/93966424 [==============================] - 18s 0us/step\n",
      "Downloading\n",
      "Downloading data from https://dumps.wikimedia.org/enwiki/20201220/enwiki-20201220-pages-articles-multistream19.xml-p27121851p28621850.bz2\n",
      "363552768/363551272 [==============================] - 69s 0us/step\n",
      "Downloading\n",
      "Downloading data from https://dumps.wikimedia.org/enwiki/20201220/enwiki-20201220-pages-articles-multistream19.xml-p28621851p30121850.bz2\n",
      "320249856/320246140 [==============================] - 62s 0us/step\n",
      "Downloading\n",
      "Downloading data from https://dumps.wikimedia.org/enwiki/20201220/enwiki-20201220-pages-articles-multistream19.xml-p30121851p31308442.bz2\n",
      "298328064/298324402 [==============================] - 61s 0us/step\n",
      "Downloading\n",
      "Downloading data from https://dumps.wikimedia.org/enwiki/20201220/enwiki-20201220-pages-articles-multistream20.xml-p31308443p32808442.bz2\n",
      "407126016/407118149 [==============================] - 84s 0us/step\n",
      "Downloading\n",
      "Downloading data from https://dumps.wikimedia.org/enwiki/20201220/enwiki-20201220-pages-articles-multistream20.xml-p32808443p34308442.bz2\n",
      "373620736/373618160 [==============================] - 79s 0us/step\n",
      "Downloading\n",
      "Downloading data from https://dumps.wikimedia.org/enwiki/20201220/enwiki-20201220-pages-articles-multistream20.xml-p34308443p35522432.bz2\n",
      "276480000/276477780 [==============================] - 59s 0us/step\n",
      "Downloading\n",
      "Downloading data from https://dumps.wikimedia.org/enwiki/20201220/enwiki-20201220-pages-articles-multistream21.xml-p35522433p37022432.bz2\n",
      "378101760/378094832 [==============================] - 79s 0us/step\n",
      "Downloading\n",
      "Downloading data from https://dumps.wikimedia.org/enwiki/20201220/enwiki-20201220-pages-articles-multistream21.xml-p37022433p38522432.bz2\n",
      "366723072/366721353 [==============================] - 75s 0us/step\n",
      "Downloading\n",
      "Downloading data from https://dumps.wikimedia.org/enwiki/20201220/enwiki-20201220-pages-articles-multistream21.xml-p38522433p39996245.bz2\n",
      "371048448/371042704 [==============================] - 78s 0us/step\n",
      "Downloading\n",
      "i 40\n",
      "Downloading data from https://dumps.wikimedia.org/enwiki/20201220/enwiki-20201220-pages-articles-multistream22.xml-p39996246p41496245.bz2\n",
      "364740608/364734250 [==============================] - 78s 0us/step\n",
      "Downloading\n",
      "Downloading data from https://dumps.wikimedia.org/enwiki/20201220/enwiki-20201220-pages-articles-multistream22.xml-p41496246p42996245.bz2\n",
      "374939648/374932080 [==============================] - 80s 0us/step\n",
      "Downloading\n",
      "Downloading data from https://dumps.wikimedia.org/enwiki/20201220/enwiki-20201220-pages-articles-multistream22.xml-p42996246p44496245.bz2\n",
      "380100608/380092579 [==============================] - 73s 0us/step\n",
      "Downloading\n",
      "Downloading data from https://dumps.wikimedia.org/enwiki/20201220/enwiki-20201220-pages-articles-multistream22.xml-p44496246p44788941.bz2\n",
      "59875328/59870045 [==============================] - 12s 0us/step\n",
      "Downloading\n",
      "Downloading data from https://dumps.wikimedia.org/enwiki/20201220/enwiki-20201220-pages-articles-multistream23.xml-p44788942p46288941.bz2\n",
      "243802112/243797591 [==============================] - 50s 0us/step\n",
      "Downloading\n",
      "Downloading data from https://dumps.wikimedia.org/enwiki/20201220/enwiki-20201220-pages-articles-multistream23.xml-p46288942p47788941.bz2\n",
      "388816896/388810415 [==============================] - 81s 0us/step\n",
      "Downloading\n",
      "Downloading data from https://dumps.wikimedia.org/enwiki/20201220/enwiki-20201220-pages-articles-multistream23.xml-p47788942p49288941.bz2\n",
      "325902336/325896415 [==============================] - 68s 0us/step\n",
      "Downloading\n",
      "Downloading data from https://dumps.wikimedia.org/enwiki/20201220/enwiki-20201220-pages-articles-multistream23.xml-p49288942p50564553.bz2\n",
      "255451136/255444768 [==============================] - 53s 0us/step\n",
      "Downloading\n",
      "Downloading data from https://dumps.wikimedia.org/enwiki/20201220/enwiki-20201220-pages-articles-multistream24.xml-p50564554p52064553.bz2\n",
      "346513408/346511723 [==============================] - 73s 0us/step\n",
      "Downloading\n",
      "Downloading data from https://dumps.wikimedia.org/enwiki/20201220/enwiki-20201220-pages-articles-multistream24.xml-p52064554p53564553.bz2\n",
      "346087424/346079545 [==============================] - 70s 0us/step\n",
      "Downloading\n",
      "Downloading data from https://dumps.wikimedia.org/enwiki/20201220/enwiki-20201220-pages-articles-multistream24.xml-p53564554p55064553.bz2\n",
      "330883072/330876038 [==============================] - 68s 0us/step\n",
      "Downloading\n",
      "Downloading data from https://dumps.wikimedia.org/enwiki/20201220/enwiki-20201220-pages-articles-multistream24.xml-p55064554p56564553.bz2\n",
      "347856896/347852392 [==============================] - 71s 0us/step\n",
      "Downloading\n",
      "Downloading data from https://dumps.wikimedia.org/enwiki/20201220/enwiki-20201220-pages-articles-multistream24.xml-p56564554p57025655.bz2\n",
      "109641728/109637783 [==============================] - 23s 0us/step\n",
      "Downloading\n",
      "Downloading data from https://dumps.wikimedia.org/enwiki/20201220/enwiki-20201220-pages-articles-multistream25.xml-p57025656p58525655.bz2\n",
      "359170048/359168483 [==============================] - 73s 0us/step\n",
      "Downloading\n",
      "Downloading data from https://dumps.wikimedia.org/enwiki/20201220/enwiki-20201220-pages-articles-multistream25.xml-p58525656p60025655.bz2\n",
      "318742528/318741922 [==============================] - 65s 0us/step\n",
      "Downloading\n",
      "Downloading data from https://dumps.wikimedia.org/enwiki/20201220/enwiki-20201220-pages-articles-multistream25.xml-p60025656p61525655.bz2\n",
      "353353728/353351094 [==============================] - 72s 0us/step\n",
      "Downloading\n",
      "Downloading data from https://dumps.wikimedia.org/enwiki/20201220/enwiki-20201220-pages-articles-multistream25.xml-p61525656p62585850.bz2\n",
      "246333440/246325965 [==============================] - 51s 0us/step\n",
      "Downloading\n",
      "Downloading data from https://dumps.wikimedia.org/enwiki/20201220/enwiki-20201220-pages-articles-multistream26.xml-p62585851p63975909.bz2\n",
      "360374272/360372089 [==============================] - 72s 0us/step\n",
      "Downloading\n",
      "Downloading data from https://dumps.wikimedia.org/enwiki/20201220/enwiki-20201220-pages-articles-multistream27.xml-p63975910p65475909.bz2\n",
      "341106688/341105531 [==============================] - 67s 0us/step\n",
      "Downloading\n",
      "Downloading data from https://dumps.wikimedia.org/enwiki/20201220/enwiki-20201220-pages-articles-multistream27.xml-p65475910p66163728.bz2\n",
      "177840128/177837055 [==============================] - 36s 0us/step\n",
      "Downloading\n",
      "i 60\n",
      "Downloading data from https://dumps.wikimedia.org/enwiki/20201220/enwiki-20201220-pages-articles1.xml-p1p41242.bz2\n",
      "244154368/244150166 [==============================] - 50s 0us/step\n",
      "Downloading\n",
      "Downloading data from https://dumps.wikimedia.org/enwiki/20201220/enwiki-20201220-pages-articles2.xml-p41243p151573.bz2\n",
      "327491584/327483898 [==============================] - 66s 0us/step\n",
      "Downloading\n",
      "Downloading data from https://dumps.wikimedia.org/enwiki/20201220/enwiki-20201220-pages-articles3.xml-p151574p311329.bz2\n",
      "354779136/354778523 [==============================] - 72s 0us/step\n",
      "Downloading\n",
      "Downloading data from https://dumps.wikimedia.org/enwiki/20201220/enwiki-20201220-pages-articles4.xml-p311330p558391.bz2\n",
      "393428992/393425696 [==============================] - 79s 0us/step\n",
      "Downloading\n",
      "Downloading data from https://dumps.wikimedia.org/enwiki/20201220/enwiki-20201220-pages-articles5.xml-p558392p958045.bz2\n",
      "423657472/423652906 [==============================] - 85s 0us/step\n",
      "Downloading\n",
      "Downloading data from https://dumps.wikimedia.org/enwiki/20201220/enwiki-20201220-pages-articles6.xml-p958046p1483661.bz2\n",
      "453574656/453574513 [==============================] - 91s 0us/step\n",
      "Downloading\n",
      "Downloading data from https://dumps.wikimedia.org/enwiki/20201220/enwiki-20201220-pages-articles7.xml-p1483662p2134111.bz2\n",
      "465772544/465772368 [==============================] - 93s 0us/step\n",
      "Downloading\n",
      "Downloading data from https://dumps.wikimedia.org/enwiki/20201220/enwiki-20201220-pages-articles8.xml-p2134112p2936260.bz2\n",
      "475021312/475018397 [==============================] - 96s 0us/step\n",
      "Downloading\n",
      "Downloading data from https://dumps.wikimedia.org/enwiki/20201220/enwiki-20201220-pages-articles9.xml-p2936261p4045402.bz2\n",
      "515497984/515495853 [==============================] - 104s 0us/step\n",
      "Downloading\n",
      "Downloading data from https://dumps.wikimedia.org/enwiki/20201220/enwiki-20201220-pages-articles10.xml-p4045403p5399366.bz2\n",
      "505724928/505720792 [==============================] - 102s 0us/step\n",
      "Downloading\n",
      "Downloading data from https://dumps.wikimedia.org/enwiki/20201220/enwiki-20201220-pages-articles11.xml-p5399367p6899366.bz2\n",
      "490307584/490302682 [==============================] - 94s 0us/step\n",
      "Downloading\n",
      "Downloading data from https://dumps.wikimedia.org/enwiki/20201220/enwiki-20201220-pages-articles11.xml-p6899367p7054859.bz2\n",
      "47128576/47124646 [==============================] - 9s 0us/step\n",
      "Downloading\n",
      "Downloading data from https://dumps.wikimedia.org/enwiki/20201220/enwiki-20201220-pages-articles12.xml-p7054860p8554859.bz2\n",
      "407257088/407250694 [==============================] - 81s 0us/step\n",
      "Downloading\n",
      "Downloading data from https://dumps.wikimedia.org/enwiki/20201220/enwiki-20201220-pages-articles12.xml-p8554860p9172788.bz2\n",
      "164929536/164926206 [==============================] - 33s 0us/step\n",
      "Downloading\n",
      "Downloading data from https://dumps.wikimedia.org/enwiki/20201220/enwiki-20201220-pages-articles13.xml-p9172789p10672788.bz2\n",
      "332226560/332222159 [==============================] - 66s 0us/step\n",
      "Downloading\n",
      "Downloading data from https://dumps.wikimedia.org/enwiki/20201220/enwiki-20201220-pages-articles13.xml-p10672789p11659682.bz2\n",
      "230703104/230697580 [==============================] - 44s 0us/step\n",
      "Downloading\n",
      "Downloading data from https://dumps.wikimedia.org/enwiki/20201220/enwiki-20201220-pages-articles14.xml-p11659683p13159682.bz2\n",
      "396132352/396128887 [==============================] - 80s 0us/step\n",
      "Downloading\n",
      "Downloading data from https://dumps.wikimedia.org/enwiki/20201220/enwiki-20201220-pages-articles14.xml-p13159683p14324602.bz2\n",
      "274825216/274821034 [==============================] - 56s 0us/step\n",
      "Downloading\n",
      "Downloading data from https://dumps.wikimedia.org/enwiki/20201220/enwiki-20201220-pages-articles15.xml-p14324603p15824602.bz2\n",
      "357294080/357291112 [==============================] - 76s 0us/step\n",
      "Downloading\n",
      "Downloading data from https://dumps.wikimedia.org/enwiki/20201220/enwiki-20201220-pages-articles15.xml-p15824603p17324602.bz2\n",
      "308568064/308562682 [==============================] - 61s 0us/step\n",
      "Downloading\n",
      "i 80\n",
      "Downloading data from https://dumps.wikimedia.org/enwiki/20201220/enwiki-20201220-pages-articles15.xml-p17324603p17460152.bz2\n",
      "28377088/28376152 [==============================] - 7s 0us/step\n",
      "Downloading\n",
      "Downloading data from https://dumps.wikimedia.org/enwiki/20201220/enwiki-20201220-pages-articles16.xml-p17460153p18960152.bz2\n",
      "338542592/338536752 [==============================] - 68s 0us/step\n",
      "Downloading\n",
      "Downloading data from https://dumps.wikimedia.org/enwiki/20201220/enwiki-20201220-pages-articles16.xml-p18960153p20460152.bz2\n",
      "315719680/315719524 [==============================] - 67s 0us/step\n",
      "Downloading\n",
      "Downloading data from https://dumps.wikimedia.org/enwiki/20201220/enwiki-20201220-pages-articles16.xml-p20460153p20570392.bz2\n",
      "23093248/23092535 [==============================] - 4s 0us/step\n",
      "Downloading\n",
      "Downloading data from https://dumps.wikimedia.org/enwiki/20201220/enwiki-20201220-pages-articles17.xml-p20570393p22070392.bz2\n",
      "353361920/353361251 [==============================] - 71s 0us/step\n",
      "Downloading\n",
      "Downloading data from https://dumps.wikimedia.org/enwiki/20201220/enwiki-20201220-pages-articles17.xml-p22070393p23570392.bz2\n",
      "363921408/363917834 [==============================] - 75s 0us/step\n",
      "Downloading\n",
      "Downloading data from https://dumps.wikimedia.org/enwiki/20201220/enwiki-20201220-pages-articles17.xml-p23570393p23716197.bz2\n",
      "40517632/40509865 [==============================] - 8s 0us/step\n",
      "Downloading\n",
      "Downloading data from https://dumps.wikimedia.org/enwiki/20201220/enwiki-20201220-pages-articles18.xml-p23716198p25216197.bz2\n",
      "377462784/377462538 [==============================] - 76s 0us/step\n",
      "Downloading\n",
      "Downloading data from https://dumps.wikimedia.org/enwiki/20201220/enwiki-20201220-pages-articles18.xml-p25216198p26716197.bz2\n",
      "349069312/349066398 [==============================] - 69s 0us/step\n",
      "Downloading\n",
      "Downloading data from https://dumps.wikimedia.org/enwiki/20201220/enwiki-20201220-pages-articles18.xml-p26716198p27121850.bz2\n",
      "87646208/87639465 [==============================] - 17s 0us/step\n",
      "Downloading\n",
      "Downloading data from https://dumps.wikimedia.org/enwiki/20201220/enwiki-20201220-pages-articles19.xml-p27121851p28621850.bz2\n",
      "339378176/339375368 [==============================] - 67s 0us/step\n",
      "Downloading\n",
      "Downloading data from https://dumps.wikimedia.org/enwiki/20201220/enwiki-20201220-pages-articles19.xml-p28621851p30121850.bz2\n",
      "298311680/298309511 [==============================] - 57s 0us/step\n",
      "Downloading\n",
      "Downloading data from https://dumps.wikimedia.org/enwiki/20201220/enwiki-20201220-pages-articles19.xml-p30121851p31308442.bz2\n",
      "282386432/282382967 [==============================] - 56s 0us/step\n",
      "Downloading\n",
      "Downloading data from https://dumps.wikimedia.org/enwiki/20201220/enwiki-20201220-pages-articles20.xml-p31308443p32808442.bz2\n",
      "384884736/384884344 [==============================] - 76s 0us/step\n",
      "Downloading\n",
      "Downloading data from https://dumps.wikimedia.org/enwiki/20201220/enwiki-20201220-pages-articles20.xml-p32808443p34308442.bz2\n",
      "350912512/350911402 [==============================] - 68s 0us/step\n",
      "Downloading\n",
      "Downloading data from https://dumps.wikimedia.org/enwiki/20201220/enwiki-20201220-pages-articles20.xml-p34308443p35522432.bz2\n",
      "260161536/260156810 [==============================] - 51s 0us/step\n",
      "Downloading\n",
      "Downloading data from https://dumps.wikimedia.org/enwiki/20201220/enwiki-20201220-pages-articles21.xml-p35522433p37022432.bz2\n",
      "353067008/353066032 [==============================] - 70s 0us/step\n",
      "Downloading\n",
      "Downloading data from https://dumps.wikimedia.org/enwiki/20201220/enwiki-20201220-pages-articles21.xml-p37022433p38522432.bz2\n",
      "342253568/342245943 [==============================] - 74s 0us/step\n",
      "Downloading\n",
      "Downloading data from https://dumps.wikimedia.org/enwiki/20201220/enwiki-20201220-pages-articles21.xml-p38522433p39996245.bz2\n",
      "347373568/347372249 [==============================] - 73s 0us/step\n",
      "Downloading\n",
      "Downloading data from https://dumps.wikimedia.org/enwiki/20201220/enwiki-20201220-pages-articles22.xml-p39996246p41496245.bz2\n",
      "341852160/341848282 [==============================] - 69s 0us/step\n",
      "Downloading\n",
      "i 100\n",
      "Downloading data from https://dumps.wikimedia.org/enwiki/20201220/enwiki-20201220-pages-articles22.xml-p41496246p42996245.bz2\n",
      "352059392/352053183 [==============================] - 69s 0us/step\n",
      "Downloading\n",
      "Downloading data from https://dumps.wikimedia.org/enwiki/20201220/enwiki-20201220-pages-articles22.xml-p42996246p44496245.bz2\n",
      "355319808/355315092 [==============================] - 70s 0us/step\n",
      "Downloading\n",
      "Downloading data from https://dumps.wikimedia.org/enwiki/20201220/enwiki-20201220-pages-articles22.xml-p44496246p44788941.bz2\n",
      "56090624/56084355 [==============================] - 11s 0us/step\n",
      "Downloading\n",
      "Downloading data from https://dumps.wikimedia.org/enwiki/20201220/enwiki-20201220-pages-articles23.xml-p44788942p46288941.bz2\n",
      "229146624/229138756 [==============================] - 44s 0us/step\n",
      "Downloading\n",
      "Downloading data from https://dumps.wikimedia.org/enwiki/20201220/enwiki-20201220-pages-articles23.xml-p46288942p47788941.bz2\n",
      "363552768/363545217 [==============================] - 71s 0us/step\n",
      "Downloading\n",
      "Downloading data from https://dumps.wikimedia.org/enwiki/20201220/enwiki-20201220-pages-articles23.xml-p47788942p49288941.bz2\n",
      "305766400/305765441 [==============================] - 59s 0us/step\n",
      "Downloading\n",
      "Downloading data from https://dumps.wikimedia.org/enwiki/20201220/enwiki-20201220-pages-articles23.xml-p49288942p50564553.bz2\n",
      "236167168/236164854 [==============================] - 46s 0us/step\n",
      "Downloading\n",
      "Downloading data from https://dumps.wikimedia.org/enwiki/20201220/enwiki-20201220-pages-articles24.xml-p50564554p52064553.bz2\n",
      "323411968/323404853 [==============================] - 63s 0us/step\n",
      "Downloading\n",
      "Downloading data from https://dumps.wikimedia.org/enwiki/20201220/enwiki-20201220-pages-articles24.xml-p52064554p53564553.bz2\n",
      "323665920/323659117 [==============================] - 64s 0us/step\n",
      "Downloading\n",
      "Downloading data from https://dumps.wikimedia.org/enwiki/20201220/enwiki-20201220-pages-articles24.xml-p53564554p55064553.bz2\n",
      "308428800/308425279 [==============================] - 60s 0us/step\n",
      "Downloading\n",
      "Downloading data from https://dumps.wikimedia.org/enwiki/20201220/enwiki-20201220-pages-articles24.xml-p55064554p56564553.bz2\n",
      "323870720/323866725 [==============================] - 64s 0us/step\n",
      "Downloading\n",
      "Downloading data from https://dumps.wikimedia.org/enwiki/20201220/enwiki-20201220-pages-articles24.xml-p56564554p57025655.bz2\n",
      "102342656/102334718 [==============================] - 20s 0us/step\n",
      "Downloading\n",
      "Downloading data from https://dumps.wikimedia.org/enwiki/20201220/enwiki-20201220-pages-articles25.xml-p57025656p58525655.bz2\n",
      "337813504/337806475 [==============================] - 67s 0us/step\n",
      "Downloading\n",
      "Downloading data from https://dumps.wikimedia.org/enwiki/20201220/enwiki-20201220-pages-articles25.xml-p58525656p60025655.bz2\n",
      "298057728/298056357 [==============================] - 59s 0us/step\n",
      "Downloading\n",
      "Downloading data from https://dumps.wikimedia.org/enwiki/20201220/enwiki-20201220-pages-articles25.xml-p60025656p61525655.bz2\n",
      "331276288/331268505 [==============================] - 66s 0us/step\n",
      "Downloading\n",
      "Downloading data from https://dumps.wikimedia.org/enwiki/20201220/enwiki-20201220-pages-articles25.xml-p61525656p62585850.bz2\n",
      "231661568/231655302 [==============================] - 46s 0us/step\n",
      "Downloading\n",
      "Downloading data from https://dumps.wikimedia.org/enwiki/20201220/enwiki-20201220-pages-articles26.xml-p62585851p63975909.bz2\n",
      "338927616/338923807 [==============================] - 66s 0us/step\n",
      "Downloading\n",
      "Downloading data from https://dumps.wikimedia.org/enwiki/20201220/enwiki-20201220-pages-articles27.xml-p63975910p65475909.bz2\n",
      "318070784/318068015 [==============================] - 63s 0us/step\n",
      "Downloading\n",
      "Downloading data from https://dumps.wikimedia.org/enwiki/20201220/enwiki-20201220-pages-articles27.xml-p65475910p66163728.bz2\n",
      "165543936/165537170 [==============================] - 35s 0us/step\n"
     ]
    }
   ],
   "source": [
    "data_paths = []\n",
    "file_info = []\n",
    "i=0\n",
    "# Iterate through each file\n",
    "for file in files_to_download:\n",
    "  path = keras_home + file\n",
    "  if not os.path.exists(keras_home + file):\n",
    "    print('Downloading')\n",
    "    i=i+1\n",
    "    if i% 20 == 0:\n",
    "      print('i',i)\n",
    "    # If not, download the file\n",
    "    data_paths.append(get_file(file,  dump_url+ file ))   \n",
    "    file_articles = int(file.split('p')[-1].split('.')[-2]) - int(file.split('p')[-2])\n",
    "    file_info.append((file, file_articles))\n",
    "  else:\n",
    "    data_paths.append(path)\n",
    "    file_number = int(file.split('p')[-1].split('.')[-2]) - int(file.split('p')[-2])\n",
    "    file_info.append((file.split('-')[-1], file_number))"
   ]
  },
  {
   "cell_type": "code",
   "execution_count": 13,
   "metadata": {
    "colab": {
     "base_uri": "https://localhost:8080/"
    },
    "executionInfo": {
     "elapsed": 758,
     "status": "ok",
     "timestamp": 1609331974976,
     "user": {
      "displayName": "ibrahim kone",
      "photoUrl": "",
      "userId": "02753287663478591702"
     },
     "user_tz": -60
    },
    "id": "nTbODt86MFzo",
    "outputId": "5334ec86-9b81-4004-9194-13c6d1f9e912"
   },
   "outputs": [
    {
     "data": {
      "text/plain": [
       "118"
      ]
     },
     "execution_count": 13,
     "metadata": {
      "tags": []
     },
     "output_type": "execute_result"
    }
   ],
   "source": [
    "len(file_info)"
   ]
  },
  {
   "cell_type": "code",
   "execution_count": 14,
   "metadata": {
    "colab": {
     "base_uri": "https://localhost:8080/"
    },
    "executionInfo": {
     "elapsed": 749,
     "status": "ok",
     "timestamp": 1609331980746,
     "user": {
      "displayName": "ibrahim kone",
      "photoUrl": "",
      "userId": "02753287663478591702"
     },
     "user_tz": -60
    },
    "id": "sdF9Xz1R1JuS",
    "outputId": "8ab68b5a-f6d0-45e1-dd87-19a0c2985a8b"
   },
   "outputs": [
    {
     "data": {
      "text/plain": [
       "[('enwiki-20201220-pages-articles-multistream11.xml-p5399367p6899366.bz2',\n",
       "  1499999),\n",
       " ('enwiki-20201220-pages-articles-multistream12.xml-p7054860p8554859.bz2',\n",
       "  1499999),\n",
       " ('enwiki-20201220-pages-articles-multistream13.xml-p9172789p10672788.bz2',\n",
       "  1499999),\n",
       " ('enwiki-20201220-pages-articles-multistream14.xml-p11659683p13159682.bz2',\n",
       "  1499999),\n",
       " ('enwiki-20201220-pages-articles-multistream15.xml-p14324603p15824602.bz2',\n",
       "  1499999),\n",
       " ('enwiki-20201220-pages-articles-multistream15.xml-p15824603p17324602.bz2',\n",
       "  1499999),\n",
       " ('enwiki-20201220-pages-articles-multistream16.xml-p17460153p18960152.bz2',\n",
       "  1499999),\n",
       " ('enwiki-20201220-pages-articles-multistream16.xml-p18960153p20460152.bz2',\n",
       "  1499999),\n",
       " ('enwiki-20201220-pages-articles-multistream17.xml-p20570393p22070392.bz2',\n",
       "  1499999),\n",
       " ('enwiki-20201220-pages-articles-multistream17.xml-p22070393p23570392.bz2',\n",
       "  1499999),\n",
       " ('enwiki-20201220-pages-articles-multistream18.xml-p23716198p25216197.bz2',\n",
       "  1499999),\n",
       " ('enwiki-20201220-pages-articles-multistream18.xml-p25216198p26716197.bz2',\n",
       "  1499999),\n",
       " ('enwiki-20201220-pages-articles-multistream19.xml-p27121851p28621850.bz2',\n",
       "  1499999),\n",
       " ('enwiki-20201220-pages-articles-multistream19.xml-p28621851p30121850.bz2',\n",
       "  1499999),\n",
       " ('enwiki-20201220-pages-articles-multistream20.xml-p31308443p32808442.bz2',\n",
       "  1499999),\n",
       " ('enwiki-20201220-pages-articles-multistream20.xml-p32808443p34308442.bz2',\n",
       "  1499999),\n",
       " ('enwiki-20201220-pages-articles-multistream21.xml-p35522433p37022432.bz2',\n",
       "  1499999),\n",
       " ('enwiki-20201220-pages-articles-multistream21.xml-p37022433p38522432.bz2',\n",
       "  1499999),\n",
       " ('enwiki-20201220-pages-articles-multistream22.xml-p39996246p41496245.bz2',\n",
       "  1499999),\n",
       " ('enwiki-20201220-pages-articles-multistream22.xml-p41496246p42996245.bz2',\n",
       "  1499999),\n",
       " ('enwiki-20201220-pages-articles-multistream22.xml-p42996246p44496245.bz2',\n",
       "  1499999),\n",
       " ('enwiki-20201220-pages-articles-multistream23.xml-p44788942p46288941.bz2',\n",
       "  1499999),\n",
       " ('enwiki-20201220-pages-articles-multistream23.xml-p46288942p47788941.bz2',\n",
       "  1499999),\n",
       " ('enwiki-20201220-pages-articles-multistream23.xml-p47788942p49288941.bz2',\n",
       "  1499999),\n",
       " ('enwiki-20201220-pages-articles-multistream24.xml-p50564554p52064553.bz2',\n",
       "  1499999),\n",
       " ('enwiki-20201220-pages-articles-multistream24.xml-p52064554p53564553.bz2',\n",
       "  1499999),\n",
       " ('enwiki-20201220-pages-articles-multistream24.xml-p53564554p55064553.bz2',\n",
       "  1499999),\n",
       " ('enwiki-20201220-pages-articles-multistream24.xml-p55064554p56564553.bz2',\n",
       "  1499999),\n",
       " ('enwiki-20201220-pages-articles-multistream25.xml-p57025656p58525655.bz2',\n",
       "  1499999),\n",
       " ('enwiki-20201220-pages-articles-multistream25.xml-p58525656p60025655.bz2',\n",
       "  1499999),\n",
       " ('enwiki-20201220-pages-articles-multistream25.xml-p60025656p61525655.bz2',\n",
       "  1499999),\n",
       " ('enwiki-20201220-pages-articles-multistream27.xml-p63975910p65475909.bz2',\n",
       "  1499999),\n",
       " ('enwiki-20201220-pages-articles11.xml-p5399367p6899366.bz2', 1499999),\n",
       " ('enwiki-20201220-pages-articles12.xml-p7054860p8554859.bz2', 1499999),\n",
       " ('enwiki-20201220-pages-articles13.xml-p9172789p10672788.bz2', 1499999),\n",
       " ('enwiki-20201220-pages-articles14.xml-p11659683p13159682.bz2', 1499999),\n",
       " ('enwiki-20201220-pages-articles15.xml-p14324603p15824602.bz2', 1499999),\n",
       " ('enwiki-20201220-pages-articles15.xml-p15824603p17324602.bz2', 1499999),\n",
       " ('enwiki-20201220-pages-articles16.xml-p17460153p18960152.bz2', 1499999),\n",
       " ('enwiki-20201220-pages-articles16.xml-p18960153p20460152.bz2', 1499999),\n",
       " ('enwiki-20201220-pages-articles17.xml-p20570393p22070392.bz2', 1499999),\n",
       " ('enwiki-20201220-pages-articles17.xml-p22070393p23570392.bz2', 1499999),\n",
       " ('enwiki-20201220-pages-articles18.xml-p23716198p25216197.bz2', 1499999),\n",
       " ('enwiki-20201220-pages-articles18.xml-p25216198p26716197.bz2', 1499999),\n",
       " ('enwiki-20201220-pages-articles19.xml-p27121851p28621850.bz2', 1499999),\n",
       " ('enwiki-20201220-pages-articles19.xml-p28621851p30121850.bz2', 1499999),\n",
       " ('enwiki-20201220-pages-articles20.xml-p31308443p32808442.bz2', 1499999),\n",
       " ('enwiki-20201220-pages-articles20.xml-p32808443p34308442.bz2', 1499999),\n",
       " ('enwiki-20201220-pages-articles21.xml-p35522433p37022432.bz2', 1499999),\n",
       " ('enwiki-20201220-pages-articles21.xml-p37022433p38522432.bz2', 1499999),\n",
       " ('enwiki-20201220-pages-articles22.xml-p39996246p41496245.bz2', 1499999),\n",
       " ('enwiki-20201220-pages-articles22.xml-p41496246p42996245.bz2', 1499999),\n",
       " ('enwiki-20201220-pages-articles22.xml-p42996246p44496245.bz2', 1499999),\n",
       " ('enwiki-20201220-pages-articles23.xml-p44788942p46288941.bz2', 1499999),\n",
       " ('enwiki-20201220-pages-articles23.xml-p46288942p47788941.bz2', 1499999),\n",
       " ('enwiki-20201220-pages-articles23.xml-p47788942p49288941.bz2', 1499999),\n",
       " ('enwiki-20201220-pages-articles24.xml-p50564554p52064553.bz2', 1499999),\n",
       " ('enwiki-20201220-pages-articles24.xml-p52064554p53564553.bz2', 1499999),\n",
       " ('enwiki-20201220-pages-articles24.xml-p53564554p55064553.bz2', 1499999),\n",
       " ('enwiki-20201220-pages-articles24.xml-p55064554p56564553.bz2', 1499999),\n",
       " ('enwiki-20201220-pages-articles25.xml-p57025656p58525655.bz2', 1499999),\n",
       " ('enwiki-20201220-pages-articles25.xml-p58525656p60025655.bz2', 1499999),\n",
       " ('enwiki-20201220-pages-articles25.xml-p60025656p61525655.bz2', 1499999),\n",
       " ('enwiki-20201220-pages-articles27.xml-p63975910p65475909.bz2', 1499999),\n",
       " ('enwiki-20201220-pages-articles-multistream21.xml-p38522433p39996245.bz2',\n",
       "  1473812),\n",
       " ('enwiki-20201220-pages-articles21.xml-p38522433p39996245.bz2', 1473812),\n",
       " ('enwiki-20201220-pages-articles-multistream26.xml-p62585851p63975909.bz2',\n",
       "  1390058),\n",
       " ('enwiki-20201220-pages-articles26.xml-p62585851p63975909.bz2', 1390058),\n",
       " ('enwiki-20201220-pages-articles-multistream10.xml-p4045403p5399366.bz2',\n",
       "  1353963),\n",
       " ('enwiki-20201220-pages-articles10.xml-p4045403p5399366.bz2', 1353963),\n",
       " ('enwiki-20201220-pages-articles-multistream23.xml-p49288942p50564553.bz2',\n",
       "  1275611),\n",
       " ('enwiki-20201220-pages-articles23.xml-p49288942p50564553.bz2', 1275611),\n",
       " ('enwiki-20201220-pages-articles-multistream20.xml-p34308443p35522432.bz2',\n",
       "  1213989),\n",
       " ('enwiki-20201220-pages-articles20.xml-p34308443p35522432.bz2', 1213989),\n",
       " ('enwiki-20201220-pages-articles-multistream19.xml-p30121851p31308442.bz2',\n",
       "  1186591),\n",
       " ('enwiki-20201220-pages-articles19.xml-p30121851p31308442.bz2', 1186591),\n",
       " ('enwiki-20201220-pages-articles-multistream14.xml-p13159683p14324602.bz2',\n",
       "  1164919),\n",
       " ('enwiki-20201220-pages-articles14.xml-p13159683p14324602.bz2', 1164919),\n",
       " ('enwiki-20201220-pages-articles-multistream9.xml-p2936261p4045402.bz2',\n",
       "  1109141),\n",
       " ('enwiki-20201220-pages-articles9.xml-p2936261p4045402.bz2', 1109141),\n",
       " ('enwiki-20201220-pages-articles-multistream25.xml-p61525656p62585850.bz2',\n",
       "  1060194),\n",
       " ('enwiki-20201220-pages-articles25.xml-p61525656p62585850.bz2', 1060194),\n",
       " ('enwiki-20201220-pages-articles-multistream13.xml-p10672789p11659682.bz2',\n",
       "  986893),\n",
       " ('enwiki-20201220-pages-articles13.xml-p10672789p11659682.bz2', 986893),\n",
       " ('enwiki-20201220-pages-articles-multistream8.xml-p2134112p2936260.bz2',\n",
       "  802148),\n",
       " ('enwiki-20201220-pages-articles8.xml-p2134112p2936260.bz2', 802148),\n",
       " ('enwiki-20201220-pages-articles-multistream27.xml-p65475910p66163728.bz2',\n",
       "  687818),\n",
       " ('enwiki-20201220-pages-articles27.xml-p65475910p66163728.bz2', 687818),\n",
       " ('enwiki-20201220-pages-articles-multistream7.xml-p1483662p2134111.bz2',\n",
       "  650449),\n",
       " ('enwiki-20201220-pages-articles7.xml-p1483662p2134111.bz2', 650449),\n",
       " ('enwiki-20201220-pages-articles-multistream12.xml-p8554860p9172788.bz2',\n",
       "  617928),\n",
       " ('enwiki-20201220-pages-articles12.xml-p8554860p9172788.bz2', 617928),\n",
       " ('enwiki-20201220-pages-articles-multistream6.xml-p958046p1483661.bz2',\n",
       "  525615),\n",
       " ('enwiki-20201220-pages-articles6.xml-p958046p1483661.bz2', 525615),\n",
       " ('enwiki-20201220-pages-articles-multistream24.xml-p56564554p57025655.bz2',\n",
       "  461101),\n",
       " ('enwiki-20201220-pages-articles24.xml-p56564554p57025655.bz2', 461101),\n",
       " ('enwiki-20201220-pages-articles-multistream18.xml-p26716198p27121850.bz2',\n",
       "  405652),\n",
       " ('enwiki-20201220-pages-articles18.xml-p26716198p27121850.bz2', 405652),\n",
       " ('enwiki-20201220-pages-articles-multistream5.xml-p558392p958045.bz2',\n",
       "  399653),\n",
       " ('enwiki-20201220-pages-articles5.xml-p558392p958045.bz2', 399653),\n",
       " ('enwiki-20201220-pages-articles-multistream22.xml-p44496246p44788941.bz2',\n",
       "  292695),\n",
       " ('enwiki-20201220-pages-articles22.xml-p44496246p44788941.bz2', 292695),\n",
       " ('enwiki-20201220-pages-articles-multistream4.xml-p311330p558391.bz2',\n",
       "  247061),\n",
       " ('enwiki-20201220-pages-articles4.xml-p311330p558391.bz2', 247061),\n",
       " ('enwiki-20201220-pages-articles-multistream3.xml-p151574p311329.bz2',\n",
       "  159755),\n",
       " ('enwiki-20201220-pages-articles3.xml-p151574p311329.bz2', 159755),\n",
       " ('enwiki-20201220-pages-articles-multistream11.xml-p6899367p7054859.bz2',\n",
       "  155492),\n",
       " ('enwiki-20201220-pages-articles11.xml-p6899367p7054859.bz2', 155492),\n",
       " ('enwiki-20201220-pages-articles-multistream17.xml-p23570393p23716197.bz2',\n",
       "  145804),\n",
       " ('enwiki-20201220-pages-articles17.xml-p23570393p23716197.bz2', 145804),\n",
       " ('enwiki-20201220-pages-articles-multistream15.xml-p17324603p17460152.bz2',\n",
       "  135549),\n",
       " ('enwiki-20201220-pages-articles15.xml-p17324603p17460152.bz2', 135549),\n",
       " ('enwiki-20201220-pages-articles-multistream2.xml-p41243p151573.bz2', 110330),\n",
       " ('enwiki-20201220-pages-articles2.xml-p41243p151573.bz2', 110330),\n",
       " ('enwiki-20201220-pages-articles-multistream16.xml-p20460153p20570392.bz2',\n",
       "  110239),\n",
       " ('enwiki-20201220-pages-articles16.xml-p20460153p20570392.bz2', 110239),\n",
       " ('enwiki-20201220-pages-articles-multistream1.xml-p1p41242.bz2', 41241),\n",
       " ('enwiki-20201220-pages-articles1.xml-p1p41242.bz2', 41241)]"
      ]
     },
     "execution_count": 14,
     "metadata": {
      "tags": []
     },
     "output_type": "execute_result"
    }
   ],
   "source": [
    "sorted(file_info, key = lambda x: x[1], reverse = True)"
   ]
  },
  {
   "cell_type": "code",
   "execution_count": 15,
   "metadata": {
    "executionInfo": {
     "elapsed": 603,
     "status": "ok",
     "timestamp": 1609331986841,
     "user": {
      "displayName": "ibrahim kone",
      "photoUrl": "",
      "userId": "02753287663478591702"
     },
     "user_tz": -60
    },
    "id": "gaKmyHc1MyRg"
   },
   "outputs": [],
   "source": [
    "import pandas as pd\n",
    "import matplotlib.pyplot as plt\n",
    "%matplotlib inline\n",
    "file_df = pd.DataFrame(file_info, columns = ['file', 'articles']).set_index('file')\n"
   ]
  },
  {
   "cell_type": "code",
   "execution_count": 17,
   "metadata": {
    "colab": {
     "base_uri": "https://localhost:8080/",
     "height": 35
    },
    "executionInfo": {
     "elapsed": 577,
     "status": "ok",
     "timestamp": 1609331995885,
     "user": {
      "displayName": "ibrahim kone",
      "photoUrl": "",
      "userId": "02753287663478591702"
     },
     "user_tz": -60
    },
    "id": "rCOR1wq4NlPb",
    "outputId": "2ab34782-a36a-4eda-cf8f-3c278f5ea494"
   },
   "outputs": [
    {
     "data": {
      "application/vnd.google.colaboratory.intrinsic+json": {
       "type": "string"
      },
      "text/plain": [
       "'/root/.keras/datasets/enwiki-20201220-pages-articles-multistream14.xml-p11659683p13159682.bz2'"
      ]
     },
     "execution_count": 17,
     "metadata": {
      "tags": []
     },
     "output_type": "execute_result"
    }
   ],
   "source": [
    "import bz2\n",
    "import subprocess\n",
    "import time\n",
    "\n",
    "data_path = data_paths[16]\n",
    "data_path"
   ]
  },
  {
   "cell_type": "code",
   "execution_count": 18,
   "metadata": {
    "colab": {
     "base_uri": "https://localhost:8080/"
    },
    "executionInfo": {
     "elapsed": 44145,
     "status": "ok",
     "timestamp": 1609332048897,
     "user": {
      "displayName": "ibrahim kone",
      "photoUrl": "",
      "userId": "02753287663478591702"
     },
     "user_tz": -60
    },
    "id": "O7GZBxaYN3Ob",
    "outputId": "ec94f14e-aa35-44fe-ac40-5668c782a134"
   },
   "outputs": [
    {
     "name": "stdout",
     "output_type": "stream",
     "text": [
      "3 loops, best of 3: 4.74 s per loop\n"
     ]
    }
   ],
   "source": [
    "%%timeit -n 3 -r 3\n",
    "\n",
    "lines = []\n",
    "for i, line in enumerate(bz2.BZ2File(data_path, 'r')):\n",
    "  lines.append(line)\n",
    "  if i > 1e6:\n",
    "    break"
   ]
  },
  {
   "cell_type": "code",
   "execution_count": 19,
   "metadata": {
    "colab": {
     "base_uri": "https://localhost:8080/"
    },
    "executionInfo": {
     "elapsed": 27785,
     "status": "ok",
     "timestamp": 1609332138588,
     "user": {
      "displayName": "ibrahim kone",
      "photoUrl": "",
      "userId": "02753287663478591702"
     },
     "user_tz": -60
    },
    "id": "fb0zO9FnOfK-",
    "outputId": "b995e83c-8440-436c-d7d9-3435f992e840"
   },
   "outputs": [
    {
     "name": "stdout",
     "output_type": "stream",
     "text": [
      "3 loops, best of 3: 2.95 s per loop\n"
     ]
    }
   ],
   "source": [
    "%%timeit -n 3 -r 3\n",
    "\n",
    "lines = []\n",
    "for i, line in enumerate(subprocess.Popen(['bzcat'], stdin = open(data_path), stdout = subprocess.PIPE).stdout):\n",
    "  lines.append(line)\n",
    "  if i > 1e6:\n",
    "    break\n"
   ]
  },
  {
   "cell_type": "code",
   "execution_count": 20,
   "metadata": {
    "colab": {
     "base_uri": "https://localhost:8080/"
    },
    "executionInfo": {
     "elapsed": 2314,
     "status": "ok",
     "timestamp": 1609332203387,
     "user": {
      "displayName": "ibrahim kone",
      "photoUrl": "",
      "userId": "02753287663478591702"
     },
     "user_tz": -60
    },
    "id": "xmsCfRSSPD7Z",
    "outputId": "dace7a75-1223-49ab-d31a-5788c5bd67c0"
   },
   "outputs": [
    {
     "data": {
      "text/plain": [
       "[b'        <username>DESiegel</username>\\n',\n",
       " b'        <id>186578</id>\\n',\n",
       " b'      </contributor>\\n',\n",
       " b'      <comment>/* top */Replacing links to draftspace with [[WP:AWB]]; may generatre red links, replaced: [[Draft: \\xe2\\x86\\x92 [[</comment>\\n',\n",
       " b'      <model>wikitext</model>\\n',\n",
       " b'      <format>text/x-wiki</format>\\n',\n",
       " b'      <text bytes=\"3183\" xml:space=\"preserve\">{{Infobox American football team\\n',\n",
       " b'| name = Langley Rams\\n',\n",
       " b'| logo = Langley Rams Logo.jpg\\n',\n",
       " b'| logosize = 200px\\n',\n",
       " b'| helmet =\\n',\n",
       " b'| helmetsize = \\n',\n",
       " b'| established = {{Start date|1948}}\\n',\n",
       " b'| folded = \\n',\n",
       " b'| location = [[Langley, British Columbia (city)|Langley, British Columbia]]\\n',\n",
       " b'| stadium = [[McLeod Stadium]]\\n',\n",
       " b'| coach = \\n',\n",
       " b'| manager = \\n',\n",
       " b'| league = [[Canadian Junior Football League]]\\n',\n",
       " b'| division = B.C. Football Conference\\n',\n",
       " b'| colours = royal blue and gold\\n',\n",
       " b'| league_champs = \\n',\n",
       " b'| div_champs =\\n']"
      ]
     },
     "execution_count": 20,
     "metadata": {
      "tags": []
     },
     "output_type": "execute_result"
    }
   ],
   "source": [
    "lines = []\n",
    "\n",
    "for i, line in enumerate(subprocess.Popen(['bzcat'], stdin = open(data_path),stdout = subprocess.PIPE).stdout):\n",
    "  lines.append(line)\n",
    "  if i > 5e5:\n",
    "    break\n",
    "lines[-102:-79]\n",
    "        "
   ]
  },
  {
   "cell_type": "code",
   "execution_count": 21,
   "metadata": {
    "executionInfo": {
     "elapsed": 837,
     "status": "ok",
     "timestamp": 1609332228276,
     "user": {
      "displayName": "ibrahim kone",
      "photoUrl": "",
      "userId": "02753287663478591702"
     },
     "user_tz": -60
    },
    "id": "Szdi82s9PwH6"
   },
   "outputs": [],
   "source": [
    "import xml.sax\n",
    "\n",
    "class WikiXmlHandler(xml.sax.handler.ContentHandler):\n",
    "  def __init__(self):\n",
    "    xml.sax.handler.ContentHandler.__init__(self)\n",
    "    self._buffer = None\n",
    "    self._values = {}\n",
    "    self._current_tag = None\n",
    "    self._pages = []\n",
    "  def characters(self, content):\n",
    "    if self._current_tag:\n",
    "      self._buffer.append(content)\n",
    "  def startElement(self, name, attrs):\n",
    "    if name in ('title', 'text', 'timestamp'):\n",
    "      self._current_tag = name\n",
    "      self._buffer = []\n",
    "  def endElement(self, name):\n",
    "    if name == self._current_tag:\n",
    "      self._values[name] = ' '.join(self._buffer)\n",
    "    if name == 'page':\n",
    "      self._pages.append((self._values['title'], self._values['text']))"
   ]
  },
  {
   "cell_type": "code",
   "execution_count": 22,
   "metadata": {
    "colab": {
     "base_uri": "https://localhost:8080/"
    },
    "executionInfo": {
     "elapsed": 625,
     "status": "ok",
     "timestamp": 1609332236638,
     "user": {
      "displayName": "ibrahim kone",
      "photoUrl": "",
      "userId": "02753287663478591702"
     },
     "user_tz": -60
    },
    "id": "g5k0kr3jQreM",
    "outputId": "8399d001-122c-4127-bdac-0fa5e384328d"
   },
   "outputs": [
    {
     "data": {
      "text/plain": [
       "[]"
      ]
     },
     "execution_count": 22,
     "metadata": {
      "tags": []
     },
     "output_type": "execute_result"
    }
   ],
   "source": [
    "# Content handler for Wiki XML\n",
    "handler = WikiXmlHandler()\n",
    "\n",
    "# Parsing object\n",
    "parser = xml.sax.make_parser()\n",
    "parser.setContentHandler(handler)\n",
    "\n",
    "handler._pages"
   ]
  },
  {
   "cell_type": "code",
   "execution_count": 24,
   "metadata": {
    "colab": {
     "base_uri": "https://localhost:8080/"
    },
    "executionInfo": {
     "elapsed": 537,
     "status": "ok",
     "timestamp": 1609332259514,
     "user": {
      "displayName": "ibrahim kone",
      "photoUrl": "",
      "userId": "02753287663478591702"
     },
     "user_tz": -60
    },
    "id": "fQlXlJ_MQ7ef",
    "outputId": "af3d2772-f4cf-4352-c4bb-47acff28d0a9"
   },
   "outputs": [
    {
     "data": {
      "text/plain": [
       "[b'      </contributor>\\n',\n",
       " b'      <comment>/* top */Replacing links to draftspace with [[WP:AWB]]; may generatre red links, replaced: [[Draft: \\xe2\\x86\\x92 [[</comment>\\n',\n",
       " b'      <model>wikitext</model>\\n',\n",
       " b'      <format>text/x-wiki</format>\\n',\n",
       " b'      <text bytes=\"3183\" xml:space=\"preserve\">{{Infobox American football team\\n',\n",
       " b'| name = Langley Rams\\n',\n",
       " b'| logo = Langley Rams Logo.jpg\\n',\n",
       " b'| logosize = 200px\\n',\n",
       " b'| helmet =\\n',\n",
       " b'| helmetsize = \\n',\n",
       " b'| established = {{Start date|1948}}\\n',\n",
       " b'| folded = \\n',\n",
       " b'| location = [[Langley, British Columbia (city)|Langley, British Columbia]]\\n',\n",
       " b'| stadium = [[McLeod Stadium]]\\n',\n",
       " b'| coach = \\n',\n",
       " b'| manager = \\n',\n",
       " b'| league = [[Canadian Junior Football League]]\\n',\n",
       " b'| division = B.C. Football Conference\\n',\n",
       " b'| colours = royal blue and gold\\n',\n",
       " b'| league_champs = \\n',\n",
       " b'| div_champs =\\n',\n",
       " b'| sponsor =\\n',\n",
       " b'| website = \\n',\n",
       " b'}}\\n',\n",
       " b'\\n',\n",
       " b\"The '''Langley Rams''' (formerly the '''South Surrey Rams''' and '''Big Kahuna Rams''') are a Canadian Junior [[Canadian Football|Football]] team based in [[Langley, British Columbia (city)|Langley, British Columbia]]. The Rams play in the six-team B.C. Football Conference, which itself is part of the [[Canadian Junior Football League]] (CJFL) and competes annually for the national title known as the [[Canadian Bowl]].\\n\",\n",
       " b'\\n',\n",
       " b'The Rams were founded in 1948, where they were based in [[Surrey, British Columbia|Surrey]] and known as the Surrey Rams and later the South Surrey Rams when the club briefly relocated to South Surrey. In 2006, the team was renamed the Big Kahuna Rams after a sponsorship deal was signed with Big Kahuna Sport Company.&lt;ref&gt;http://www.hometeamsonline.com/teams/default.asp?u=LANGLEYRAMS&amp;t=c&amp;s=football&amp;p=about&lt;/ref&gt; On December 5, 2010, the team was officially introduced as the Langley Rams as the team made the move to Langley to play in McLeod Athletic Park Stadium.&lt;ref&gt;http://www.hometeamsonline.com/teams/default.asp?u=LANGLEYRAMS&amp;t=c&amp;s=football&amp;p=NewsStory&amp;newsID=26347&lt;/ref&gt;\\n',\n",
       " b'\\n',\n",
       " b'The Langley Rams made it to the Canadian CJFL Championship against the [[Saskatoon Hilltops]] in 2012.  The game on November 10 ended 23 Hilltops to 21 Rams giving the Hilltops their third straight Championship.&lt;ref&gt;{{Citation\\n',\n",
       " b'  | last =Nugent-Bowman\\n',\n",
       " b'  | first = Daniel\\n',\n",
       " b'  | author-link = \\n',\n",
       " b'  | last2 = \\n',\n",
       " b'  | first2 = \\n',\n",
       " b'  | author2-link = \\n',\n",
       " b'  | title  =Hilltops eye national three-peat after crushing Beefeaters Saskatoon builds up massive first-half lead with to six TDs  | newspaper = [[The StarPhoenix]]\\n',\n",
       " b'  | date =October 28, 2012\\n',\n",
       " b'  | url =https://thestarphoenix.com/sports/Hilltops+national+three+peat+after+crushing/7461219/story.html\\n',\n",
       " b'|accessdate=November 10, 2012}}&lt;/ref&gt;&lt;ref&gt;{{Citation\\n']"
      ]
     },
     "execution_count": 24,
     "metadata": {
      "tags": []
     },
     "output_type": "execute_result"
    }
   ],
   "source": [
    "lines[-100:-60]"
   ]
  },
  {
   "cell_type": "code",
   "execution_count": 27,
   "metadata": {
    "colab": {
     "base_uri": "https://localhost:8080/"
    },
    "executionInfo": {
     "elapsed": 561,
     "status": "ok",
     "timestamp": 1609332289379,
     "user": {
      "displayName": "ibrahim kone",
      "photoUrl": "",
      "userId": "02753287663478591702"
     },
     "user_tz": -60
    },
    "id": "KCAkHhNzS2B2",
    "outputId": "cf6904cf-3cc0-4324-9605-07302d495280"
   },
   "outputs": [
    {
     "data": {
      "text/plain": [
       "[('1980 in Afghanistan',\n",
       "  '{{Year in Afghanistan|1980}} \\n The following lists events that happened during \\'\\'\\'[[1980]] in [[Afghanistan]]\\'\\'\\'. \\n \\n Karmal faces increasing friction within the Revolutionary Council and other wings of the government. One of the most striking evidences of Khalq-Parcham feuding comes when Karmal removes his deputy prime minister, Assadullah Sarwari, a prominent Khalqi, and three other Khalq followers from the scene by appointing them as ambassadors. Sarwari, who was once considered a potential Soviet choice to replace Karmal, is named envoy to [[Mongolia]] after a sojourn in the Soviet Union. There are reports of assassinations of Khalqis by Parchamites and vice versa, and bitter interparty fighting is said to have spread to army units and government agencies in various parts of the country. Karmal reshuffles his cabinet, promoting Sultan Ali Keshtmand, a trusted Parchamite colleague, to replace Sarwari as first deputy prime minister. \\n \\n ==Incumbents== \\n * [[President of Afghanistan|President]]: [[Babrak Karmal]] \\n * [[Prime Minister of Afghanistan|Chairman of the Council of Ministers]]: [[Babrak Karmal]] \\n \\n ==January 14, 1980== \\n A special session of the UN General Assembly passes a resolution (104-18) calling for the immediate withdrawal of  \" foreign troops \"  in Afghanistan. Similar resolutions are passed in subsequent years until November 10, 1987, when the vote in favour reaches a record 123. \\n \\n ==January 29, 1980== \\n An emergency session of the Conference of Islamic States, convening in Islamabad, Pakistan, condemns the  \" Soviet military aggression against the Afghan people \"  and demands that all Soviet troops be withdrawn immediately. The foreign ministers also suspend Afghanistan from their organization and ask that their respective governments sever diplomatic relations with it. \\n \\n ==February 1980== \\n Anti-Soviet feeling among the Afghans rises to a high pitch, when a general strike and violent demonstrations are staged against the Soviet presence in Kabul and other major cities. The mass uprising is quelled as Afghan armed forces and Communist militia inflict heavy casualties on the demonstrators. As cases of Soviet soldiers disappearing begin to increase, the Soviet troops assume more and more direct control of the security situation from the Afghan Army. The Soviets unleash a series of offensives against insurgents in the provinces of Paktia, Konarha, Ghazni, Herat, Kandahar, and Badakhshan. The demonstrations are repeated at the end of April, this time staged by students from Kabul University and other educational institutions. The April demonstrations, which occur during the anniversary celebrations of the Saur (April) Revolution launched by former president Taraki on April 27, 1978, result in the brutal killings of more than 50 students. \\n \\n ==May 1980== \\n Attempts to bring about a peaceful solution of the Afghan crisis and Soviet withdrawal from the country are made by the Islamic Conference in Islamabad, Pakistan. No headway can be made, however. Pakistan refuses to have any direct talks with the Karmal regime, since this would involve recognition of the Soviet-backed government. Karmal insists that all subversive activities against his country must stop before any international discussion on the crisis could be held. \\n \\n ==June 1980== \\n The Soviet Union announces a token withdrawal of one of its divisions, but this fails to placate the Afghans. Despite intense propaganda by President Karmal, Afghan state organs, and the Soviet government to the effect that the Soviet presence had a  \" limited \"  purpose and the troops would pull out as soon as peace was restored, the Karmal regime is finding itself more and more isolated from the people. Except for a small percentage consisting of ruling PDPA cadres, bureaucrats, and intellectuals, no section of the population accepts the government\\'s thesis: that all the country\\'s ills either are caused by saboteurs and agents from Pakistan and the U.S. or result from the tyrannical measures adopted by the short-lived regime of Karmal\\'s predecessor, Hafizullah Amin. Increasingly, Karmal is finding himself in a dilemma, because the very Soviet troops who are arousing such resistance from his countrymen are the only force preventing the collapse of his government. Meanwhile, several regional groups, collectively known as \\'\\'Mujahideen\\'\\' (from the Persian word meaning  \" warriors \" ), have united inside Afghanistan, or across the border in Peshawar, to resist the Soviet invaders and the Soviet-backed Afghan Army. \\n \\n The Afghan Army\\'s strength is down to 32,000 from an estimated 80,000 at the time of the Soviet intervention, due to large-scale desertions. \\n \\n ==September 1980== \\n Outside estimates place the number of Afghans seeking shelter in Pakistan at over 900,000. \\n \\n ==October 16, 1980== \\n Karmal begins an extended visit to Moscow, where he is welcomed by Soviet Pres. Leonid Brezhnev. Their subsequent discussion and joint signature of a document in the [[Kremlin]] is seen as a formal acknowledgment of the Afghan government\\'s puppet status. \\n \\n ==November 1980== \\n It is disclosed that [[Egypt]] is sending arms to the Mujahideen. \\n \\n {{Years in Afghanistan}} \\n {{Year in Asia|1980}} \\n \\n {{DEFAULTSORT:1980 In Afghanistan}} \\n [[Category:1980 in Afghanistan| ]] \\n [[Category:1980 by country|Afghanistan]] \\n [[Category:Years of the 20th century in Afghanistan]] \\n [[Category:1980 in Asia|Afghanistan]] \\n [[Category:1980s in Afghanistan]]'),\n",
       " ('Memorial Stadium (Savannah)',\n",
       "  \"{{Infobox Stadium \\n | name                = Memorial Stadium \\n | nickname            =  \\n | image               = [[Image:MemorialStadium.JPG|300px]] \\n | fullname            =  \\n | location            = [[Savannah, Georgia]] \\n | coordinates         = {{coord|31.993236|-81.079831|region:US-GA_type:landmark_scale:5000_source:wikimapia|display=inline,title}} < !-- Ex Wikimapia link -- > \\n | broke_ground        =  \\n | built               = 1957 \\n | opened              = 1957 \\n | renovated           = 2018-ongoing \\n | expanded            =  \\n | closed              =  \\n | demolished          = 2018 \\n | owner               = [[Chatham County, Georgia]] \\n | operator            = Chatham County Public Works and Park Services \\n | surface             =  \\n | construction_cost   =  \\n | architect           =  \\n | structural engineer =  \\n | services engineer   =  \\n | general_contractor  =  \\n | project_manager     =  \\n | main_contractors    =  \\n | former_names        =  \\n | tenants             = [[Savannah-Chatham County Public Schools]] (1957-present) < br > [[Savannah State University]] (1957-1968)  < br > [[Benedictine Military School]] (1957-2011)  < br > Savannah Clovers ([[United Premier Soccer League|UPSL]]) (2018-present) \\n | capacity            = 15,000 (1957-2017) < br > 5,000 (2018-present) \\n | dimensions          =  \\n | scoreboard          =  \\n }}'''Memorial Stadium''' is a 5,000 capacity county owned [[multi-purpose stadium]] near [[Savannah, Georgia]]. < ref > {{cite web|url=http://www.chathamcounty.org/pwps_memorial.html|title=Memorial Stadium|accessdate=2008-04-18|url-status=dead|archiveurl=https://web.archive.org/web/20080907033647/http://www.chathamcounty.org/pwps_memorial.html|archivedate=2008-09-07}} < /ref >  The stadium is primarily used for [[American football]] by [[high schools]] in [[Chatham County, Georgia|Chatham County]]. \\n \\n The facility is dedicated to Georgians who died at [[war]]. \\n \\n The stadium was modernized in 2018, reopening in September 2018. \\n \\n ==References== \\n {{reflist}} \\n \\n ==External links== \\n *[https://web.archive.org/web/20080907033647/http://www.chathamcounty.org/pwps_memorial.html Information at Chatham Co. Government] \\n \\n {{Sports venues in Savannah, Georgia}} \\n {{Georgia college football venues}} \\n \\n [[Category:High school football venues in the United States]] \\n [[Category:Soccer venues in Georgia (U.S. state)]] \\n [[Category:Sports venues in Georgia (U.S. state)]] \\n [[Category:Multi-purpose stadiums in the United States]] \\n [[Category:American football venues in Georgia (U.S. state)]]\"),\n",
       " ('List of the oldest living people',\n",
       "  '{{short description|Wikimedia list article}} \\n \\n {{Use dmy dates|date=January 2020}} \\n \\n This is a list of the 50 oldest people who have been verified to be alive as of the dates of the cited supporting sources. It is estimated that there are between 150 and 600 living people who have reached the age of 110. < ref name=Smithsonian > {{cite news |url=http://www.smithsonianmag.com/science-nature/keeping-track-oldest-people-world-180951976/?no-ist |title=Keeping Track of the oldest People in the World |work=Smithsonian Magazine |last=Nuwer |first=Rachel |date=16 September 2015 |access-date=16 September 2015}} < /ref > < ref name=Hudson > {{cite news|last1=Ballinger|first1=Barbara|title=Q & A: Supercentenarian Vera Van Wagner On Living to a Really Ripe Old Age, Marrying the Love of Her Life and Waiting For a Big Birthday Bash|url=http://www.hvmag.com/Hudson-Valley-Magazine/Vera-Van-Wagner-Supercentenarian/|publisher=Hudson Valley Magazine}} < /ref >  The true number is uncertain as not all [[supercentenarian]]s are known to researchers at a given time and some claims cannot be validated or are fraudulent. < ref name=Smithsonian / > \\n \\n [[Kane Tanaka]] of Japan is the world\\'s oldest living person whose age has been verified. < ref name=GRG > {{cite web |url= http://supercentenarian-research-foundation.org/TableE.aspx|title=GRG World Supercentenarian Rankings List |first1=Louis |last1=Epstein |first2=Robert |last2=Young |first3=Johnny |last3=Adams |first4=Mark |last4=Muir |publisher=[[Gerontology Research Group]] |date=27 October 2020 |access-date=7 December 2020}} < /ref > \\n \\n == 50 oldest living people == \\n < !--Inclusion in this list requires a reliable source that is less than a year old. The definition of a reliable source is provided by WP:RS. ANY reliable source is sufficient; there is NO requirement that the person\\'s age has been validated by Guinness World Records or GRG. (Note, however, that the Gerontology Wiki at Wikia is NOT a reliable source, and neither is the110club.com, and neither is findagrave.com, and neither is the French Wikipedia, and neither is Facebook, and neither is any blog.) Moreover, removal of someone reliably sourced from the list within a year of the source\\'s publishment requires a reliable source revealing that the person has died. Having any reliable source revealing the person died is sufficient for a person to be removed from the list; there is no requirement that the person has been removed from GRG\\'s list of living supercentenarians under the assumption that they\\'re on GRG\\'s list. Also, when removing someone from the list please move the HTML comment below the bottom (which has up to 5 people proposed to be added) below so that there are exactly 50 people on this list.-- > \\n {{inc-up|date=January 2018}} \\n {{Dynamic list}} \\n {{row indexer| < nowiki > {|class= \" wikitable sortable \" \\n ! Rank \\n ! Name \\n ! Sex \\n ! Birth date \\n ! Age as of {{date}} \\n ! Country of residence \\n |- \\n | align=center | _row_count \\n | data-sort-value= \" Tanaka, Kane \"  | [[Kane Tanaka]] < ref name=GRG / > \\n | align=center | F \\n | 2 January 1903 \\n | {{ayd | 2 January 1903}} \\n | [[Japan]] \\n |- \\n | align=center | _row_count \\n | data-sort-value= \" Randon \"  | [[List of French supercentenarians#Lucile Randon|Lucile Randon]], < ref name=GRG / >  aka Sœur André < ref name=randon-116 > {{cite news |url=https://www.rtl.fr/actu/debats-societe/soeur-andre-la-doyenne-de-france-fete-ses-116-ans-7800066363 |title=Sœur André, la doyenne de France, fête ses 116 ans |lang=fr |trans-title=Sister André, France\\'s oldest woman, celebrates her 116th birthday |work=[[RTL (French radio)|RTL]] |date=11 February 2020 |access-date=11 February 2020}} < /ref > \\n | align=center | F \\n | 11 February 1904 \\n | {{ayd | 11 February 1904}} \\n | [[France]] \\n |- \\n | align=center | _row_count \\n | data-sort-value= \" Santos \"  | Francisca Celsa dos Santos < ref name=GRG/ > \\n | align=center|F \\n | 21 October 1904 \\n | {{ayd | 21 October 1904}} \\n | [[Brazil]] \\n |- \\n | align=center | _row_count \\n | data-sort-value= \" Bot \"  | Jeanne Bot < ref name=GRG / > \\n | align=center | F \\n | 14 January 1905 \\n | {{ayd | 14 January 1905}} \\n | France \\n |- \\n | align=center | _row_count \\n | data-sort-value= \" Nakachi \"  | Shigeyo Nakachi < ref name=GRG / > \\n | align=center | F \\n | 1 February 1905 \\n | {{ayd | 1 February 1905}} \\n | Japan \\n |- \\n | align=center | _row_count \\n | data-sort-value= \" Conceição \"  | Julia Amélia da Conceição < ref > {{cite web|url=https://www.miseria.com.br/ultimas-noticias/cariri/mulher-mais-idosa-do-ceara-completa-115-anos-hoje-em-juazeiro-do-norte/|title=Mulher mais idosa do Ceará completa 115 anos hoje em Juazeiro do Norte |website=miseria.com.br|author=Demontier Tenório|lang=pt|date=5 May 2020|access-date=2 July 2020}} < /ref > \\n | align=center | F \\n | 5 May 1905 \\n | {{ayd | 5 May 1905}} \\n | Brazil \\n |- \\n | align=center | _row_count \\n | data-sort-value= \" Cruz \"  | Antônia Santa Cruz < ref > {{cite web|url=https://www.calilanoticias.com/2019/12/uma-das-mulheres-mais-velhas-do-brasil-reside-em-coite-voce-sabia|title=Uma das mulheres mais velhas do Brasil reside em Coité, você sabia? |website=calilanoticias.com|lang=pt|date=27 December 2019|access-date=16 April 2020}} < /ref > \\n | align=center | F \\n | 13 June 1905 \\n | {{ayd | 13 June 1905}} \\n | Brazil \\n |- \\n | align=center | _row_count \\n | data-sort-value= \" Ford, Hester \"  | Hester Ford < ref name=GRG / > \\n | align=center | F \\n | 15 August 1905 \\n | {{ayd | 15 August 1905}} \\n | [[United States]] \\n |- \\n | align=center | _row_count \\n | data-sort-value= \" Westman \"  | Iris Westman < ref name=GRG / > \\n | align=center | F \\n | 28 August 1905 \\n | {{ayd | 28 August 1905}} \\n | United States \\n |- \\n | align=center | _row_count \\n | data-sort-value= \" Juniewicz \"  | Tekla Juniewicz < ref name=GRG / > \\n | align=center | F \\n | 10 June 1906 \\n | {{ayd | 10 June 1906}} \\n | [[Poland]]{{efn|Juniewicz was born in Krupsko near [[Lviv]], then in [[Austria-Hungary]], now in [[Ukraine]].}} \\n |-   \\n | align=center | _row_count \\n | data-sort-value= \" Sutcliffe \"  | Thelma Sutcliffe < ref name=GRG / > \\n | align=center | F \\n | 1 October 1906 \\n | {{ayd | 1 October 1906}} \\n | United States \\n |- \\n | align=center | _row_count \\n | data-sort-value= \" Ligny \"  | Valentine Ligny < ref name=GRG / > \\n | align=center | F \\n | 22 October 1906 \\n | {{ayd | 22 October 1906}} \\n | France \\n |- \\n | align=center | _row_count \\n | data-sort-value= \" Fukuoka \"  | Anonymous of [[Fukuoka Prefecture|Fukuoka]] < ref name=GRG / > \\n | align=center | F \\n | 17 December 1906 \\n | {{ayd | 17 December 1906}} \\n | Japan \\n |- \\n | align=center | _row_count \\n | data-sort-value= \" Yasukawa \"  | Hama Yasukawa < ref name=GRG / > \\n | align=center | F \\n | 19 January 1907 \\n | {{ayd | 19 January 1907}} \\n | Japan \\n |- \\n | align=center | _row_count \\n | data-sort-value= \" Goodwill \"  | Ellen Goodwill < ref name=GRG / > \\n | align=center | F \\n | 2 February 1907 \\n | {{ayd | 2 February 1907}} \\n | United States \\n |- \\n | align=center | _row_count \\n | data-sort-value= \" Morera \"  | [[List of Spanish supercentenarians#María Brañas Morera |María Brañas Morera]] < ref > {{cite web |url=https://www.catalannews.com/life-style/item/oldest-person-in-catalonia-celebrates-113th-birthday|title=Oldest person in Catalonia celebrates 113th birthday |publisher=Catalan News |date=4 March 2020 |access-date=14 March 2020}} < /ref > < ref > {{cite web |url=https://www.theguardian.com/world/2020/may/16/worlds-oldest-coronavirus-survivor-the-elderly-are-the-forgotten-ones-of-society |title=113-year-old coronavirus survivor: ‘The elderly are the forgotten ones of society’|publisher=The Guardian |date=16 May 2020 |access-date=19 May 2020}} < /ref > \\n | align=center | F \\n | 4 March 1907 \\n | {{ayd | 4 March 1907}} \\n | [[Spain]]{{efn| Brañas Morera was born in [[Mexico]].}} \\n |- \\n | align=center | _row_count \\n | data-sort-value= \" Ridgway \"  | Phyllis Ridgway < ref name=GRG / > \\n | align=center | F \\n | 10 March 1907 \\n | {{ayd | 10 March 1907}} \\n | [[Canada]]{{efn|Ridgway was born in the [[United Kingdom]].}} \\n |- \\n | align=center | _row_count  \\n | data-sort-value= \" Benegas-Gallego \"  | Casilda Benegas-Gallego < ref name=GRG / > \\n | align=center | F \\n | 8 April 1907 \\n | {{ayd | 8 April 1907}} \\n | [[Argentina]]{{efn|Benegas-Gallego was born in [[Paraguay]].}} \\n |- \\n | align=center | _row_count \\n | data-sort-value= \" Tatsumi \"  | Fusa Tatsumi < ref name=GRG / > \\n | align=center | F \\n | 25 April 1907 \\n | {{ayd | 25 April 1907}} \\n | Japan \\n |- \\n | align=center | _row_count \\n | data-sort-value= \" Baba \"  | Yoshi Baba < ref name=GRG / > \\n | align=center | F \\n | 3 June 1907 \\n | {{ayd | 3 June 1907}} \\n | Japan \\n |- \\n | align=center | _row_count \\n | data-sort-value= \" Carroll \"  | Florence Carroll < ref name=GRG / > \\n | align=center | F \\n | 9 June 1907 \\n | {{ayd | 9 June 1907}} \\n | United States \\n |- \\n | align=center | _row_count \\n | data-sort-value= \" Klein \"  | Cecile Klein < ref name=GRG / > \\n | align=center | F \\n | 15 June 1907 \\n | {{ayd | 15 June 1907}} \\n | Canada \\n |- \\n | align=center | _row_count \\n | data-sort-value= \" Jousseaume \"  | Marie-Florentine Jousseaume < ref name=GRG / > \\n | align=center | F \\n | 17 June 1907 \\n | {{ayd | 17 June 1907}} \\n | France \\n |- \\n | align=center | _row_count \\n | data-sort-value= \" López \"  | Evangelista Luisa López < ref name=GRG / > \\n | align=center | F \\n | 21 June 1907 \\n | {{ayd | 21 June 1907}} \\n | Argentina \\n |- \\n | align=center | _row_count \\n | data=sort-value= \" Harris \"  |Maude Harris < ref name=GRG / > \\n | align=center | F \\n | 15 August 1907 \\n | {{ayd | 15 August 1907}} \\n | United States \\n |- \\n | align=center | _row_count \\n | data-sort-value= \" Hendricks \"  | Bessie Hendricks < ref name=GRG / > \\n | align=center | F \\n | 7 November 1907 \\n | {{ayd | 7 November 1907}} \\n | United States \\n |- \\n | align=center | _row_count \\n | data-sort-value= \" Mangold \"  | Mila Mangold < ref > {{cite news |url=https://www.berkeleyside.com/2020/12/04/mila-mangold-birthday-113-year-old-oldest-people-berkeley |title=Happy birthday to longtime Berkeleyan Mila Mangold, who has just turned 113|website=berkeleyside.com |date=4 December 2020 |access-date=6 December 2020}} < /ref > \\n | align=center | F \\n | 14 November 1907 \\n | {{ayd | 14 November 1907}} \\n | United States \\n |- \\n | align=center | _row_count \\n | data-sort-value= \" Fennell \"  | Reita Fennell < ref name=GRG / > \\n | align=center | F \\n | 20 November 1907 \\n | {{ayd | 20 November 1907}} \\n | Canada \\n |- \\n | align=center | _row_count \\n | data-sort-value= \" Dunham \"  | Irene Dunham < ref name=GRG / >   \\n | align=center | F \\n | 16 December 1907 \\n | {{ayd | 16 December 1907}} \\n | United States \\n |- \\n | align=center | _row_count \\n | data-sort-value= \" Ireland \"  | Christine Ireland < ref > {{cite web|url=https://www.courier-tribune.com/lifestyle/20200119/christine-a-ireland|title=Christine A. Ireland|publisher=courier-tribune.com|date=19 January 2020|access-date=1 February 2020}} < /ref > \\n | align= \" center \"  | F \\n | 19 January 1908 \\n | {{ayd | 19 January 1908}} \\n | United States \\n |- \\n |rowspan=2 align=center | _row_count  < !--_row_count_hold -- > \\n | data-sort-value= \" Ceccarelli \"  | Edith Ceccarelli < ref > {{cite web|url=https://www.pressdemocrat.com/home/a1/10674242-181/chris-smith-very-few-on|title=Chris Smith: Willits\\' Edie Ceccarelli, believed to be the oldest native Californian, turns 112|publisher=pressdemocrat.com|author=Chris Smith|date=5 February 2020|access-date=9 February 2020}} < /ref > \\n | align= \" center \"  | F \\n | rowspan=2 | 5 February 1908 \\n | rowspan=2 | {{ayd | 5 February 1908}} \\n | United States \\n |- \\n | data-sort-value= \" Kizu \"  | Ine Kizu < ref > {{cite web |url=https://www.pref.chiba.lg.jp/koufuku/press/2020/r2hyakusai.html|title=令和2年度老人の日記念行事「百歳高齢者に対する記念品贈呈」について |lang=ja |trans-title=Reiwa Commemorative Event for the 100-year-old Elderly|publisher=[[Chiba Prefecture]] |date=16 September 2020 |access-date=18 September 2020}} < /ref > \\n | align=center | F \\n | Japan \\n |- \\n | align=center | _row_count \\n | data-sort-value= \" Furuya \"  | Kahoru Furuya < ref > {{cite web |url=http://www2.pref.shizuoka.jp/all/kisha19.nsf/c3db48f94231df2e4925714700049a4e/45b6c3135e8fac32492584d9000a5e63?OpenDocument|title=県内最高齢者の死去 |lang=ja |trans-title=Death of the oldest person in the prefecture |publisher=[[Shizuoka Prefecture]] |date=23 December 2019 |access-date=5 May 2020}} < /ref > < ref > {{cite web |url=https://news.yahoo.co.jp/articles/5bb002a012d816526e331f53ac035446d9f5a55d|title=敬老の日\\u3000静岡県内最高齢は伊豆の国市内の112歳の女性 |lang=ja |trans-title=Respect of the Aged Day The oldest woman in Shizuoka Prefecture is an 112-year-old woman in Izunokuni City|publisher=yahoo.co.jp |date=21 September 2020 |access-date=24 September 2020}} < /ref > \\n | align=center | F \\n | 18 February 1908 \\n | {{ayd | 18 February 1908}} \\n | Japan \\n |- \\n | align=center | _row_count \\n | data-sort-value= \" Yonamine \"  | Nahi Yonamine < ref > {{cite web |url=https://www.pref.okinawa.jp/site/kodomo/korei/zaitaku/documents/r02_p7teiseigo.pdf|title=令和２年「老人の日・老人週間」について|lang=ja |trans-title=Reiwa 2nd Year  \" Old People\\'s Day and Old People\\'s Week \" |publisher=[[Okinawa Prefecture]] |date=15 September 2020 |access-date=25 September 2020}} < /ref > < ref > {{cite web |url=http://www.vill.kitanakagusuku.lg.jp/site/htdocs/kouhou/200410/03.html|title=北中城村の最高齢者|lang=ja |trans-title=The oldest in Kitanakashiro Village|publisher=vill.kitanakagusuku.lg.jp|access-date=25 September 2020}} < /ref > \\n | align=center | F \\n | 9 March 1908 \\n | {{ayd | 9 March 1908}} \\n | Japan \\n |- \\n | align=center | _row_count \\n | data-sort-value= \" Zahn \"  | Erna Zahn < ref > {{cite web|url=https://www.startribune.com/oldest-living-minnesotan-celebrated-with-112th-birthday-parade/569633082/|title=Oldest-living Minnesotan celebrated with 112th birthday parade|website=startribune.com |first=John |last=Reinan |date=15 April 2020|access-date=16 April 2020}} < /ref > \\n | align=center | F \\n | 14 April 1908 \\n | {{ayd | 14 April 1908}} \\n | United States \\n |- \\n | align=center | _row_count \\n | data-sort-value= \" Thorpe \"  | Avicia Thorpe < ref > {{cite web |url=https://www.wdbj7.com/content/news/Danville-woman-turns-112-years-old--569703421.html |title=Danville woman turns 112 years old|author=Ashley Boles |date=16 April 2020 |website=wdbj7.com |access-date=16 April 2020}} < /ref > \\n | align=center | F \\n | 16 April 1908 \\n | {{ayd | 16 April 1908}} \\n | United States \\n |- \\n | align=center | _row_count \\n | data-sort-value= \" Canabarro Lucas \"  | Inah Canabarro Lucas < ref > https://internacional.com.br/noticias/torcedora-colorada-completa-112-anos-de-idade < /ref > \\n | align=center | F \\n | 27 May 1908 \\n | {{ayd | 27 May 1908}} \\n | Brazil \\n |- \\n | align=center | _row_count \\n | data-sort-value= \" Staley \"  | Ruby Staley < ref > {{cite web |url=https://www.heraldmailmedia.com/brightside/marylands-oldest-staley-celebrates-112-years/article_223328e6-7c32-50d5-9f1b-999818fd976f.html|title=Maryland\\'s oldest: Staley celebrates 112 years |author=Alexis Fitzpatrick |date=7 June 2020 |website=heraldmailmedia.com |access-date=17 June 2020}} < /ref > \\n | align=center | F \\n | 17 June 1908 \\n | {{ayd | 17 June 1908}} \\n | United States \\n |- \\n | align=center | _row_count \\n | data-sort-value= \" Garrett \"  | Anna Garrett < ref > {{cite web |url=https://fox59.com/news/whats-trending/woman-celebrates-112th-birthday-becomes-oldest-living-person-in-indiana-family-says/?fbclid=IwAR0by6VlqamV-g1aTH8w3Wy1D8H_hiNdIjjQTtYOXUoqvsfFYNZRkI1byHI|title=Woman celebrates 112th birthday, becomes oldest living person in Indiana, family says |date=26 July 2020 |website=fox59.com |access-date=25 August 2020}} < /ref > \\n | align=center | F \\n | 26 July 1908 \\n | {{ayd | 26 July 1908}} \\n | United States \\n |- \\n | align=center | _row_count \\n | data-sort-value= \" Kamiya \"  | Kunie Kamiya < ref > {{cite web |url=https://mainichi.jp/articles/20190917/ddl/k44/040/154000c|title=県内最高齢は１１１歳、大分市の神屋さん\\u3000知事訪問、長寿祝う\\u3000／大分|lang=ja |publisher=mainichi.jp |date=17 September 2019 |access-date=19 September 2020}} < /ref > < ref > {{cite web |url=https://www3.nhk.or.jp/lnews/oita/20200915/5070008005.html|title=県内 １００歳以上 過去最多に|lang=ja |publisher=nhk.or.jp |date=15 September 2020 |access-date=19 September 2020}} < /ref > \\n | align=center | F \\n | 13 September 1908 \\n | {{ayd | 13 September 1908}} \\n | Japan \\n |- \\n | align=center | _row_count \\n | data-sort-value= \" Wittenburg \"  | Esther Wittenburg < ref > {{cite web |url=https://wcfcourier.com/announcements/esther-wittenburg/article_d1df26da-ebac-550d-9590-8b6d219f0a53.html|title=Esther Wittenburg|date=4 October 2020 |website=wcfcourier.com |access-date=6 October 2020}} < /ref > \\n | align=center | F \\n | 27 September 1908 \\n | {{ayd | 27 September 1908}} \\n | United States \\n |- \\n | align=center | _row_count \\n | data-sort-value= \" Angleman \"  | Pauline Angleman < ref > {{cite web |url=https://www.marinij.com/2020/10/02/pauline-angleman-marins-supercentenarian-turns-112/?fbclid=IwAR3Km_IyRnCA6ukYMgw-i68g1etvx0eVCc4xp0-BD8PbWHDuj1k0gdUYirs|title=Pauline Angleman, Marin’s supercentenarian, turns 112 years old|date=2 October 2020 |website=marinij.com |access-date=6 October 2020}} < /ref > \\n | align=center | F \\n | 4 October 1908 \\n | {{ayd | 4 October 1908}} \\n | United States \\n |- \\n | align=center | _row_count \\n | data-sort-value= \" Barton \"  | Barbara Barton < ref > {{cite web |url=https://turnto10.com/news/local/ri-woman-celebrates-112th-birthday|title=RI woman celebrates 112th birthday|author=Jessica Botelho|date=12 October 2020 |website=turnto10.com |access-date=12 October 2020}} < /ref > \\n | align=center | F \\n | 12 October 1908 \\n | {{ayd | 12 October 1908}} \\n | United States \\n |- \\n | align=center | _row_count \\n | data-sort-value= \" Priest \"  | Sarah Lillian Priest < ref > {{cite web |url=https://www.bournemouthecho.co.uk/news/18854879.britains-oldest-person-celebrates-112th-birthday-swanage-home/|title=Britain\\'s oldest person celebrates 112th birthday at Swanage home|author=Greg Luckhurst|date=7 November 2020 |website=bournemouthecho.co.uk|access-date=7 November 2020}} < /ref > \\n | align=center | F \\n | 7 November 1908 \\n | {{ayd | 7 November 1908}} \\n | [[United Kingdom]] \\n |- \\n | align=center | _row_count \\n | data-sort-value= \" Ōshimo \"  | Itsuka Ōshimo < ref > {{cite web |url=https://www.pref.hiroshima.lg.jp/uploaded/attachment/408102.pdf)|lang=ja |title=県内最年長者の死|trans-title=Death of the oldest person in the prefecture|publisher=[[Hiroshima Prefecture]] |date=9 October 2020 |access-date=12 October 2020}} < /ref > \\n | align=center | F \\n | 12 December 1908 \\n | {{ayd | 12 December 1908}} \\n | Japan \\n |- \\n | align=center | _row_count \\n | data-sort-value= \" Willis \"  | Nina Willis < ref > {{cite web |url=https://www.fox5atlanta.com/news/georgia-woman-celebrating-111th-birthday|title=Georgia woman celebrating 111th birthday|date=14 January 2020 |website=fox5atlanta.com |access-date=27 October 2020}} < /ref > \\n | align=center | F \\n | 14 January 1909 \\n | {{ayd | 14 January 1909}} \\n | United States \\n |- \\n | align=center | _row_count \\n | data-sort-value= \" Marie \"  | Nancy Marie < ref > {{cite web |url=http://www.seychellesnewsagency.com/articles/12325/Seychelles%27+oldest+citizen+celebrates+milestone+birthday+|title=Seychelles\\' oldest citizen celebrates milestone birthday: 111|author=Patsy Athanase|date=27 January 2020 |website=seychellesnewsagency.com |access-date=29 October 2020}} < /ref > \\n | align=center | F \\n | 26 January 1909 \\n | {{ayd | 26 January 1909}} \\n | [[Seychelles]] \\n |- \\n | align=center | _row_count \\n | data-sort-value= \" Kingston \"  | Gertrude Annie Kingston < ref > {{cite web |url=https://www.newburytoday.co.uk/news/news/29302/at-111-remarkable-gertie-is-sixth-oldest-person-in-uk.html|title=At 111, remarkable Gertie is sixth oldest person in UK|author=Jonathan Ashby|date=7 February 2020 |website=newburytoday.co.uk|access-date=21 November 2020}} < /ref > \\n | align=center | F \\n | 1 February 1909 \\n | {{ayd | 1 February 1909}} \\n | United Kingdom \\n |- \\n | align=center | _row_count \\n | data-sort-value= \" Walker \"  | Mollie Walker < ref > {{cite web |url=https://www.henleystandard.co.uk/news/events/149917/woman-is-111.html|title=Woman is 111|date=2 March 2020 |website=henleystandard.co.uk|access-date=3 December 2020}} < /ref > \\n | align=center | F \\n | 5 February 1909 \\n | {{ayd | 5 February 1909}} \\n | United Kingdom \\n |- \\n | align=center | _row_count \\n | data-sort-value= \" Garcia \"  | Saturnino de la Fuente Garcia < ref > {{cite web |url=https://www.diariodeleon.es/articulo/sociedad/saturnino-abuelo-leon-espana/202002080232291984589.html|lang=Spanish |title=Saturnino, abuelo de León y de España|trans-title=|publisher=diariodeleon.es |date=8 February 2020 |access-date=13 December 2020}} < /ref > \\n | align=center | M \\n | 8 February 1909 \\n | {{ayd | 8 February 1909}} \\n | Spain \\n < !-- People after #50 on the list, to be moved up in the list when someone above dies. If a new person is added to the main list, the last person in that list should be moved to this section. Please do not add more than 5 people to this section. \\n -- > |} < /nowiki > }} \\n \\n == Notes == \\n {{notelist|30em}} \\n \\n == References == \\n {{Reflist|30em}} \\n \\n {{portalbar|Biography|Lists}} \\n {{Longevity}} \\n \\n [[Category:Lists of oldest people]]')]"
      ]
     },
     "execution_count": 27,
     "metadata": {
      "tags": []
     },
     "output_type": "execute_result"
    }
   ],
   "source": [
    "handler._pages"
   ]
  },
  {
   "cell_type": "code",
   "execution_count": 28,
   "metadata": {
    "colab": {
     "base_uri": "https://localhost:8080/"
    },
    "executionInfo": {
     "elapsed": 554,
     "status": "ok",
     "timestamp": 1609332293094,
     "user": {
      "displayName": "ibrahim kone",
      "photoUrl": "",
      "userId": "02753287663478591702"
     },
     "user_tz": -60
    },
    "id": "UPMfNQInTC4n",
    "outputId": "7485b708-55c2-4243-8856-c882a234cd03"
   },
   "outputs": [
    {
     "name": "stdout",
     "output_type": "stream",
     "text": [
      "['1980 in Afghanistan', 'Memorial Stadium (Savannah)', 'List of the oldest living people']\n"
     ]
    }
   ],
   "source": [
    "# Object for handling xml\n",
    "handler = WikiXmlHandler()\n",
    "\n",
    "# Parsing object\n",
    "parser = xml.sax.make_parser()\n",
    "parser.setContentHandler(handler)\n",
    "\n",
    "for i, line in enumerate(subprocess.Popen(['bzcat'],stdin = open(data_path), stdout = subprocess.PIPE).stdout):\n",
    "    parser.feed(line)\n",
    "    # Stop when 3 articles have been found\n",
    "    if len(handler._pages) > 2:\n",
    "      break\n",
    "        \n",
    "print([x[0] for x in handler._pages])"
   ]
  },
  {
   "cell_type": "code",
   "execution_count": 29,
   "metadata": {
    "executionInfo": {
     "elapsed": 546,
     "status": "ok",
     "timestamp": 1609332301437,
     "user": {
      "displayName": "ibrahim kone",
      "photoUrl": "",
      "userId": "02753287663478591702"
     },
     "user_tz": -60
    },
    "id": "l5P9R5ZeTWXg"
   },
   "outputs": [],
   "source": [
    "# Object for handling xml\n",
    "handler = WikiXmlHandler()\n",
    "\n",
    "# Parsing object\n",
    "parser = xml.sax.make_parser()\n",
    "parser.setContentHandler(handler)\n",
    "\n",
    "for i, line in enumerate(subprocess.Popen(['bzcat'],stdin = open(data_path), stdout = subprocess.PIPE).stdout):\n",
    "    parser.feed(line)\n",
    "    # Stop when 50 articles have been found\n",
    "    if len(handler._pages) > 50:\n",
    "      break"
   ]
  },
  {
   "cell_type": "code",
   "execution_count": 30,
   "metadata": {
    "colab": {
     "base_uri": "https://localhost:8080/"
    },
    "executionInfo": {
     "elapsed": 5199,
     "status": "ok",
     "timestamp": 1609332308614,
     "user": {
      "displayName": "ibrahim kone",
      "photoUrl": "",
      "userId": "02753287663478591702"
     },
     "user_tz": -60
    },
    "id": "CwK4dzikT-uY",
    "outputId": "0fd79d4c-648b-473f-c7ae-376ae41fa816"
   },
   "outputs": [
    {
     "name": "stdout",
     "output_type": "stream",
     "text": [
      "Collecting mwparserfromhell\n",
      "\u001b[?25l  Downloading https://files.pythonhosted.org/packages/c6/00/03ccc2676e592f73ce455fd0343eb38d3779878332ba01ef4c0281a7d2a9/mwparserfromhell-0.6-cp36-cp36m-manylinux1_x86_64.whl (174kB)\n",
      "\r",
      "\u001b[K     |█▉                              | 10kB 14.8MB/s eta 0:00:01\r",
      "\u001b[K     |███▊                            | 20kB 12.7MB/s eta 0:00:01\r",
      "\u001b[K     |█████▋                          | 30kB 9.7MB/s eta 0:00:01\r",
      "\u001b[K     |███████▌                        | 40kB 7.5MB/s eta 0:00:01\r",
      "\u001b[K     |█████████▍                      | 51kB 4.4MB/s eta 0:00:01\r",
      "\u001b[K     |███████████▎                    | 61kB 5.1MB/s eta 0:00:01\r",
      "\u001b[K     |█████████████▏                  | 71kB 5.0MB/s eta 0:00:01\r",
      "\u001b[K     |███████████████                 | 81kB 5.2MB/s eta 0:00:01\r",
      "\u001b[K     |████████████████▉               | 92kB 5.6MB/s eta 0:00:01\r",
      "\u001b[K     |██████████████████▊             | 102kB 5.4MB/s eta 0:00:01\r",
      "\u001b[K     |████████████████████▋           | 112kB 5.4MB/s eta 0:00:01\r",
      "\u001b[K     |██████████████████████▌         | 122kB 5.4MB/s eta 0:00:01\r",
      "\u001b[K     |████████████████████████▍       | 133kB 5.4MB/s eta 0:00:01\r",
      "\u001b[K     |██████████████████████████▎     | 143kB 5.4MB/s eta 0:00:01\r",
      "\u001b[K     |████████████████████████████    | 153kB 5.4MB/s eta 0:00:01\r",
      "\u001b[K     |██████████████████████████████  | 163kB 5.4MB/s eta 0:00:01\r",
      "\u001b[K     |███████████████████████████████▉| 174kB 5.4MB/s eta 0:00:01\r",
      "\u001b[K     |████████████████████████████████| 184kB 5.4MB/s \n",
      "\u001b[?25hInstalling collected packages: mwparserfromhell\n",
      "Successfully installed mwparserfromhell-0.6\n"
     ]
    }
   ],
   "source": [
    "!pip install mwparserfromhell"
   ]
  },
  {
   "cell_type": "code",
   "execution_count": 31,
   "metadata": {
    "colab": {
     "base_uri": "https://localhost:8080/"
    },
    "executionInfo": {
     "elapsed": 558,
     "status": "ok",
     "timestamp": 1609332313145,
     "user": {
      "displayName": "ibrahim kone",
      "photoUrl": "",
      "userId": "02753287663478591702"
     },
     "user_tz": -60
    },
    "id": "j9upYHi8Tioi",
    "outputId": "981aa2ab-c5bf-4d52-f973-ffe7654840c2"
   },
   "outputs": [
    {
     "name": "stdout",
     "output_type": "stream",
     "text": [
      "Portal:Spaceflight/Topics\n"
     ]
    }
   ],
   "source": [
    "import mwparserfromhell \n",
    "\n",
    "print(handler._pages[6][0])\n",
    "\n",
    "# Create the wiki article\n",
    "wiki = mwparserfromhell.parse(handler._pages[6][1])"
   ]
  },
  {
   "cell_type": "code",
   "execution_count": 32,
   "metadata": {
    "colab": {
     "base_uri": "https://localhost:8080/",
     "height": 53
    },
    "executionInfo": {
     "elapsed": 576,
     "status": "ok",
     "timestamp": 1609332317101,
     "user": {
      "displayName": "ibrahim kone",
      "photoUrl": "",
      "userId": "02753287663478591702"
     },
     "user_tz": -60
    },
    "id": "M9Q44rKBUPWe",
    "outputId": "1f9bfda6-64df-4581-8414-74a849f8c38e"
   },
   "outputs": [
    {
     "name": "stdout",
     "output_type": "stream",
     "text": [
      "<class 'mwparserfromhell.wikicode.Wikicode'>\n"
     ]
    },
    {
     "data": {
      "application/vnd.google.colaboratory.intrinsic+json": {
       "type": "string"
      },
      "text/plain": [
       "'{{Portal:Spaceflight/Tab header}} \\n \\n {{Portal:Spaceflight/box-header|Categories|Portal:Spaceflight/'"
      ]
     },
     "execution_count": 32,
     "metadata": {
      "tags": []
     },
     "output_type": "execute_result"
    }
   ],
   "source": [
    "print(type(wiki))\n",
    "wiki[:100]"
   ]
  },
  {
   "cell_type": "code",
   "execution_count": 33,
   "metadata": {
    "colab": {
     "base_uri": "https://localhost:8080/"
    },
    "executionInfo": {
     "elapsed": 586,
     "status": "ok",
     "timestamp": 1609332324243,
     "user": {
      "displayName": "ibrahim kone",
      "photoUrl": "",
      "userId": "02753287663478591702"
     },
     "user_tz": -60
    },
    "id": "L1vYC4z5UXcN",
    "outputId": "89f8cc2b-b93c-4ce2-c971-5b20292d8d02"
   },
   "outputs": [
    {
     "name": "stdout",
     "output_type": "stream",
     "text": [
      "There are 0 wikilinks.\n"
     ]
    },
    {
     "data": {
      "text/plain": [
       "[]"
      ]
     },
     "execution_count": 33,
     "metadata": {
      "tags": []
     },
     "output_type": "execute_result"
    }
   ],
   "source": [
    "wikilinks = [x.title for x in wiki.filter_wikilinks()]\n",
    "print(f'There are {len(wikilinks)} wikilinks.')\n",
    "wikilinks[:5]"
   ]
  },
  {
   "cell_type": "code",
   "execution_count": 34,
   "metadata": {
    "colab": {
     "base_uri": "https://localhost:8080/"
    },
    "executionInfo": {
     "elapsed": 556,
     "status": "ok",
     "timestamp": 1609332326603,
     "user": {
      "displayName": "ibrahim kone",
      "photoUrl": "",
      "userId": "02753287663478591702"
     },
     "user_tz": -60
    },
    "id": "c2EDasQfUfs5",
    "outputId": "5d1efd20-98ac-49cc-ea92-dd20beb95609"
   },
   "outputs": [
    {
     "name": "stdout",
     "output_type": "stream",
     "text": [
      "There are 0 external links.\n"
     ]
    },
    {
     "data": {
      "text/plain": [
       "[]"
      ]
     },
     "execution_count": 34,
     "metadata": {
      "tags": []
     },
     "output_type": "execute_result"
    }
   ],
   "source": [
    "external_links = [(x.title, x.url) for x in wiki.filter_external_links()]\n",
    "print(f'There are {len(external_links)} external links.')\n",
    "external_links[:5]"
   ]
  },
  {
   "cell_type": "code",
   "execution_count": 35,
   "metadata": {
    "colab": {
     "base_uri": "https://localhost:8080/"
    },
    "executionInfo": {
     "elapsed": 545,
     "status": "ok",
     "timestamp": 1609332332368,
     "user": {
      "displayName": "ibrahim kone",
      "photoUrl": "",
      "userId": "02753287663478591702"
     },
     "user_tz": -60
    },
    "id": "mVv9tPjAUrlW",
    "outputId": "c9975f33-f1e6-4dae-cbcf-9ece46b3ca75"
   },
   "outputs": [
    {
     "name": "stdout",
     "output_type": "stream",
     "text": [
      "There are 7 templates.\n",
      "Portal:Spaceflight/Tab header\n",
      "Portal:Spaceflight/box-header\n",
      "Portal:Spaceflight/Topics/Categories\n",
      "Box-footer\n",
      "Portal:Spaceflight/box-header\n",
      "Space exploration lists and timelines\n",
      "Box-footer\n"
     ]
    }
   ],
   "source": [
    "templates = wiki.filter_templates()\n",
    "print(f'There are {len(templates)} templates.')\n",
    "for template in templates:\n",
    "  print(template.name)"
   ]
  },
  {
   "cell_type": "code",
   "execution_count": 36,
   "metadata": {
    "colab": {
     "base_uri": "https://localhost:8080/"
    },
    "executionInfo": {
     "elapsed": 592,
     "status": "ok",
     "timestamp": 1609332341952,
     "user": {
      "displayName": "ibrahim kone",
      "photoUrl": "",
      "userId": "02753287663478591702"
     },
     "user_tz": -60
    },
    "id": "RFKNmkQ2U-tK",
    "outputId": "8250c45c-c95b-4395-b2c2-84907ad5da75"
   },
   "outputs": [
    {
     "data": {
      "text/plain": [
       "[]"
      ]
     },
     "execution_count": 36,
     "metadata": {
      "tags": []
     },
     "output_type": "execute_result"
    }
   ],
   "source": [
    "infobox = wiki.filter_templates(matches = 'Infobox film')\n",
    "infobox"
   ]
  },
  {
   "cell_type": "code",
   "execution_count": 37,
   "metadata": {
    "executionInfo": {
     "elapsed": 577,
     "status": "ok",
     "timestamp": 1609332348736,
     "user": {
      "displayName": "ibrahim kone",
      "photoUrl": "",
      "userId": "02753287663478591702"
     },
     "user_tz": -60
    },
    "id": "LjpCju7JVPsB"
   },
   "outputs": [],
   "source": [
    "import re\n",
    "\n",
    "def process_article(title, text, timestamp, template = 'Infobox film'):\n",
    "  # Create a parsing object\n",
    "  wikicode = mwparserfromhell.parse(text)\n",
    "  # Search through templates for the template\n",
    "  matches = wikicode.filter_templates(matches = template)\n",
    "  # Filter out errant matches\n",
    "  matches = [x for x in matches if x.name.strip_code().strip().lower() == template.lower()]\n",
    "  if len(matches) >= 1:\n",
    "    # Extract internal wikilinks\n",
    "    wikilinks = [x.title.strip_code().strip() for x in wikicode.filter_wikilinks()]\n",
    "    # Extract external links\n",
    "    exlinks = [x.url.strip_code().strip() for x in wikicode.filter_external_links()]\n",
    "    properties = {param.name.strip_code().strip(): param.value.strip_code().strip() for param in matches[0].params if param.value.strip_code().strip()}\n",
    "    # Find approximate length of article\n",
    "    text_length = len(wikicode.strip_code().strip())\n",
    "    return (title, properties, wikilinks, exlinks, timestamp, text_length)"
   ]
  },
  {
   "cell_type": "code",
   "execution_count": 39,
   "metadata": {
    "colab": {
     "base_uri": "https://localhost:8080/",
     "height": 35
    },
    "executionInfo": {
     "elapsed": 590,
     "status": "ok",
     "timestamp": 1609332368940,
     "user": {
      "displayName": "ibrahim kone",
      "photoUrl": "",
      "userId": "02753287663478591702"
     },
     "user_tz": -60
    },
    "id": "YoxN5uqwagLC",
    "outputId": "0a2f38f4-311c-42f6-8e5c-18471ec213ec"
   },
   "outputs": [
    {
     "data": {
      "application/vnd.google.colaboratory.intrinsic+json": {
       "type": "string"
      },
      "text/plain": [
       "'/root/.keras/datasets/enwiki-20201220-pages-articles-multistream15.xml-p17324603p17460152.bz2'"
      ]
     },
     "execution_count": 39,
     "metadata": {
      "tags": []
     },
     "output_type": "execute_result"
    }
   ],
   "source": [
    "data_path=data_paths[20]\n",
    "data_path"
   ]
  },
  {
   "cell_type": "code",
   "execution_count": 40,
   "metadata": {
    "executionInfo": {
     "elapsed": 532,
     "status": "ok",
     "timestamp": 1609332371755,
     "user": {
      "displayName": "ibrahim kone",
      "photoUrl": "",
      "userId": "02753287663478591702"
     },
     "user_tz": -60
    },
    "id": "GND1qwyjWRdS"
   },
   "outputs": [],
   "source": [
    "class WikiXmlHandler(xml.sax.handler.ContentHandler):\n",
    "  def __init__(self):\n",
    "    xml.sax.handler.ContentHandler.__init__(self)\n",
    "    self._buffer = None\n",
    "    self._values = {}\n",
    "    self._current_tag = None\n",
    "    self._movies = []\n",
    "    self._article_count = 0\n",
    "    self._non_matches = []\n",
    "  def characters(self, content):\n",
    "    if self._current_tag:\n",
    "      self._buffer.append(content)\n",
    "  def startElement(self, name, attrs):\n",
    "    if name in ('title', 'text', 'timestamp'):\n",
    "      self._current_tag = name\n",
    "      self._buffer = []\n",
    "  def endElement(self, name):\n",
    "    if name == self._current_tag:\n",
    "      self._values[name] = ' '.join(self._buffer)\n",
    "    if name == 'page':\n",
    "      self._article_count += 1\n",
    "      # Search through the page to see if the page is a book\n",
    "      movie = process_article(**self._values, template = 'Infobox film')\n",
    "      # Append to the list of books\n",
    "      if movie:\n",
    "        self._movies.append(movie)"
   ]
  },
  {
   "cell_type": "code",
   "execution_count": 41,
   "metadata": {
    "colab": {
     "base_uri": "https://localhost:8080/"
    },
    "executionInfo": {
     "elapsed": 3597,
     "status": "ok",
     "timestamp": 1609332382887,
     "user": {
      "displayName": "ibrahim kone",
      "photoUrl": "",
      "userId": "02753287663478591702"
     },
     "user_tz": -60
    },
    "id": "QClEWWg0YAv0",
    "outputId": "adff7b4e-b5c9-4e98-b0f8-1661f97e0d07"
   },
   "outputs": [
    {
     "name": "stdout",
     "output_type": "stream",
     "text": [
      "Searched through 129 articles to find 3 movies.\n"
     ]
    }
   ],
   "source": [
    "# Object for handling xml\n",
    "handler = WikiXmlHandler()\n",
    "# Parsing object\n",
    "parser = xml.sax.make_parser()\n",
    "parser.setContentHandler(handler)\n",
    "for i, line in enumerate(subprocess.Popen(['bzcat'], stdin = open(data_path),stdout = subprocess.PIPE).stdout):\n",
    "  parser.feed(line)\n",
    "  # Stop when 3 articles have been found\n",
    "  if len(handler._movies) > 2:\n",
    "    break\n",
    "        \n",
    "print(f'Searched through {handler._article_count} articles to find 3 movies.')"
   ]
  },
  {
   "cell_type": "code",
   "execution_count": 42,
   "metadata": {
    "colab": {
     "base_uri": "https://localhost:8080/"
    },
    "executionInfo": {
     "elapsed": 569,
     "status": "ok",
     "timestamp": 1609332388754,
     "user": {
      "displayName": "ibrahim kone",
      "photoUrl": "",
      "userId": "02753287663478591702"
     },
     "user_tz": -60
    },
    "id": "Ropw6p6leXqB",
    "outputId": "4828db40-36c3-4b5a-b275-9a0a0b9f35e6"
   },
   "outputs": [
    {
     "data": {
      "text/plain": [
       "('The Dangerous Flirt',\n",
       " {'cinematography': 'Lucien Andriot < br > Maynard Rugg',\n",
       "  'country': 'United States',\n",
       "  'director': 'Tod Browning',\n",
       "  'distributor': 'Film Booking Offices of America',\n",
       "  'language': 'Silent < br > English intertitles',\n",
       "  'name': 'The Dangerous Flirt',\n",
       "  'producer': 'Gothic Pictures',\n",
       "  'runtime': '6 reels 1,614 meters (5,297.014 feet)',\n",
       "  'starring': 'Evelyn Brent < br > Edward Earle',\n",
       "  'studio': 'Gothic Pictures',\n",
       "  'writer': 'Julie Herne < br > Richard Schayer'},\n",
       " ['Tod Browning',\n",
       "  'Julie Herne',\n",
       "  'Richard Schayer',\n",
       "  'Evelyn Brent',\n",
       "  'Edward Earle',\n",
       "  'Lucien Andriot',\n",
       "  'Film Booking Offices of America',\n",
       "  'reel#Motion picture terminology',\n",
       "  'Silent film',\n",
       "  'melodrama',\n",
       "  'Tod Browning',\n",
       "  'lost film',\n",
       "  'Evelyn Brent',\n",
       "  'Edward Earle',\n",
       "  'Sheldon Lewis',\n",
       "  'Pierre Gendron (actor)',\n",
       "  'List of lost films',\n",
       "  'Category:1924 films',\n",
       "  'Category:1924 lost films',\n",
       "  'Category:1924 romantic drama films',\n",
       "  'Category:American films',\n",
       "  'Category:American romantic drama films',\n",
       "  'Category:American silent feature films',\n",
       "  'Category:American black-and-white films',\n",
       "  'Category:Films directed by Tod Browning',\n",
       "  'Category:Film Booking Offices of America films',\n",
       "  'Category:Lost American films',\n",
       "  'Category:Lost romantic drama films',\n",
       "  'Category:Melodramas'],\n",
       " ['https://archive.org/details/evelynbrentlifef00kear',\n",
       "  'https://archive.org/details/evelynbrentlifef00kear/page/n152',\n",
       "  'https://movies.nytimes.com/movie/88591/Dangerous-Flirt/overview',\n",
       "  'http://silentera.com/PSFL/data/D/DangerousFlirt1924.html'],\n",
       " '2020-12-04T19:34:21Z',\n",
       " 1075)"
      ]
     },
     "execution_count": 42,
     "metadata": {
      "tags": []
     },
     "output_type": "execute_result"
    }
   ],
   "source": [
    "handler._movies[1]"
   ]
  },
  {
   "cell_type": "code",
   "execution_count": 43,
   "metadata": {
    "executionInfo": {
     "elapsed": 758,
     "status": "ok",
     "timestamp": 1609320222060,
     "user": {
      "displayName": "ibrahim kone",
      "photoUrl": "",
      "userId": "02753287663478591702"
     },
     "user_tz": -60
    },
    "id": "WRmA7ymJe7y6"
   },
   "outputs": [],
   "source": [
    "keras_home ='/gdrive/My Drive/wikipedia/final/.keras/datasets/'"
   ]
  },
  {
   "cell_type": "code",
   "execution_count": 44,
   "metadata": {
    "colab": {
     "base_uri": "https://localhost:8080/",
     "height": 35
    },
    "executionInfo": {
     "elapsed": 853,
     "status": "ok",
     "timestamp": 1609320224762,
     "user": {
      "displayName": "ibrahim kone",
      "photoUrl": "",
      "userId": "02753287663478591702"
     },
     "user_tz": -60
    },
    "id": "Yx_433XEl27v",
    "outputId": "b7e26d27-c980-40af-dc37-586a02f9d7fe"
   },
   "outputs": [
    {
     "data": {
      "application/vnd.google.colaboratory.intrinsic+json": {
       "type": "string"
      },
      "text/plain": [
       "'/root/.keras/datasets/enwiki-20201220-pages-articles-multistream14.xml-p13159683p14324602.bz2'"
      ]
     },
     "execution_count": 44,
     "metadata": {
      "tags": []
     },
     "output_type": "execute_result"
    }
   ],
   "source": [
    "data_path"
   ]
  },
  {
   "cell_type": "code",
   "execution_count": 3,
   "metadata": {
    "executionInfo": {
     "elapsed": 943,
     "status": "ok",
     "timestamp": 1609411824480,
     "user": {
      "displayName": "ibrahim kone",
      "photoUrl": "",
      "userId": "02753287663478591702"
     },
     "user_tz": -60
    },
    "id": "8zrYfokD_kkr"
   },
   "outputs": [],
   "source": [
    "from timeit import default_timer as timer"
   ]
  },
  {
   "cell_type": "code",
   "execution_count": 44,
   "metadata": {
    "colab": {
     "base_uri": "https://localhost:8080/"
    },
    "executionInfo": {
     "elapsed": 157204,
     "status": "ok",
     "timestamp": 1609332593633,
     "user": {
      "displayName": "ibrahim kone",
      "photoUrl": "",
      "userId": "02753287663478591702"
     },
     "user_tz": -60
    },
    "id": "PHovqdNohwDP",
    "outputId": "b9d76f68-30a7-4a11-dfaf-e0f0783e216a"
   },
   "outputs": [
    {
     "name": "stdout",
     "output_type": "stream",
     "text": [
      "Processed 2040000 lines so far.\n",
      "Searched through 33714 articles.\n",
      "\n",
      "Found 176 movies in 156 seconds.\n"
     ]
    }
   ],
   "source": [
    "from timeit import default_timer as timer\n",
    "\n",
    "start = timer()\n",
    "# Object for handling xml\n",
    "handler = WikiXmlHandler()\n",
    "\n",
    "# Parsing object\n",
    "parser = xml.sax.make_parser()\n",
    "parser.setContentHandler(handler)\n",
    "\n",
    "# Parse the entire file\n",
    "for i, line in enumerate(subprocess.Popen(['bzcat'], stdin = open(data_path), stdout = subprocess.PIPE).stdout):\n",
    "  if (i + 1) % 10000 == 0:\n",
    "    print(f'Processed {i + 1} lines so far.', end = '\\r')\n",
    "  try:\n",
    "    parser.feed(line)\n",
    "  except StopIteration:\n",
    "    break\n",
    "    \n",
    "end = timer()\n",
    "movies = handler._movies\n",
    "\n",
    "print(f'\\nSearched through {handler._article_count} articles.')\n",
    "print(f'\\nFound {len(movies)} movies in {round(end - start)} seconds.')"
   ]
  },
  {
   "cell_type": "code",
   "execution_count": 2,
   "metadata": {
    "colab": {
     "base_uri": "https://localhost:8080/"
    },
    "executionInfo": {
     "elapsed": 624,
     "status": "ok",
     "timestamp": 1609332652258,
     "user": {
      "displayName": "ibrahim kone",
      "photoUrl": "",
      "userId": "02753287663478591702"
     },
     "user_tz": -60
    },
    "id": "js_e41tsPQe6",
    "outputId": "c6b7a3da-e97e-4842-d3c7-fa161ac6c814"
   },
   "outputs": [],
   "source": [
    "#data_paths"
   ]
  },
  {
   "cell_type": "code",
   "execution_count": 46,
   "metadata": {
    "executionInfo": {
     "elapsed": 575,
     "status": "ok",
     "timestamp": 1609332668425,
     "user": {
      "displayName": "ibrahim kone",
      "photoUrl": "",
      "userId": "02753287663478591702"
     },
     "user_tz": -60
    },
    "id": "9Nz-nGA8icWV"
   },
   "outputs": [],
   "source": [
    "import json\n",
    "\n",
    "# Save list of books\n",
    "with open('/gdrive/MyDrive/wikipedia/data/movies1.ndjson', 'wt') as fout:\n",
    "  for l in movies:\n",
    "    fout.write(json.dumps(l) + '\\n')"
   ]
  },
  {
   "cell_type": "code",
   "execution_count": 47,
   "metadata": {
    "executionInfo": {
     "elapsed": 576,
     "status": "ok",
     "timestamp": 1609332675872,
     "user": {
      "displayName": "ibrahim kone",
      "photoUrl": "",
      "userId": "02753287663478591702"
     },
     "user_tz": -60
    },
    "id": "0KWbD4oolEeP"
   },
   "outputs": [],
   "source": [
    "\n",
    "import json\n",
    "\n",
    "# Save list of books\n",
    "with open('/gdrive/My Drive/wikipedia/data/movies1.ndjson', 'wt') as fout:\n",
    "  for l in movies:\n",
    "    fout.write(json.dumps(l) + '\\n')"
   ]
  },
  {
   "cell_type": "code",
   "execution_count": 48,
   "metadata": {
    "executionInfo": {
     "elapsed": 560,
     "status": "ok",
     "timestamp": 1609332685004,
     "user": {
      "displayName": "ibrahim kone",
      "photoUrl": "",
      "userId": "02753287663478591702"
     },
     "user_tz": -60
    },
    "id": "uV_mOpyhpPle"
   },
   "outputs": [],
   "source": [
    "movies_in = []\n",
    "\n",
    "# Read in list of books\n",
    "with open('/gdrive/My Drive/wikipedia/data/movies1.ndjson', 'rt') as fin:\n",
    "  for l in fin.readlines():\n",
    "    movies_in.append(json.loads(l))"
   ]
  },
  {
   "cell_type": "code",
   "execution_count": 49,
   "metadata": {
    "colab": {
     "base_uri": "https://localhost:8080/"
    },
    "executionInfo": {
     "elapsed": 994,
     "status": "ok",
     "timestamp": 1609332689083,
     "user": {
      "displayName": "ibrahim kone",
      "photoUrl": "",
      "userId": "02753287663478591702"
     },
     "user_tz": -60
    },
    "id": "dQt118Dys6E_",
    "outputId": "0f31e432-a9fa-4054-8f83-ff564a5464d2"
   },
   "outputs": [
    {
     "data": {
      "text/plain": [
       "176"
      ]
     },
     "execution_count": 49,
     "metadata": {
      "tags": []
     },
     "output_type": "execute_result"
    }
   ],
   "source": [
    "len(movies_in)"
   ]
  },
  {
   "cell_type": "code",
   "execution_count": 50,
   "metadata": {
    "colab": {
     "base_uri": "https://localhost:8080/"
    },
    "executionInfo": {
     "elapsed": 620,
     "status": "ok",
     "timestamp": 1609332698301,
     "user": {
      "displayName": "ibrahim kone",
      "photoUrl": "",
      "userId": "02753287663478591702"
     },
     "user_tz": -60
    },
    "id": "rWFOB_mmpjLY",
    "outputId": "001d5ede-5490-425c-87a7-2f4766e81803"
   },
   "outputs": [
    {
     "data": {
      "text/plain": [
       "['Junda Iman Gunda',\n",
       " {'assistant director': 'Deepak Roy  < br >  Manish Das -- >',\n",
       "  'director': 'Chandra Mudoi \\n < !--',\n",
       "  'language': 'Assamese',\n",
       "  'music': 'Dr Hitesh Baruah',\n",
       "  'name': 'Junda Iman Gunda',\n",
       "  'producer': 'Pranjal Bharali  < br >  Chabi Bhoralee',\n",
       "  'released': '7 September 2007 < ref >  < /ref >',\n",
       "  'screenplay': 'Chandra Mudoi',\n",
       "  'starring': 'Bikram Rajkhowa  < br >  Angoorlata',\n",
       "  'writer': 'Bhaben Borah'},\n",
       " ['Pranjal Bharali',\n",
       "  'Angoorlata Deka',\n",
       "  'Assamese language',\n",
       "  'Assamese language',\n",
       "  'romantic comedy',\n",
       "  'Angoorlata Deka',\n",
       "  'Debojit Saha',\n",
       "  'Angoorlata Deka',\n",
       "  'Film soundtrack',\n",
       "  'Assamese language',\n",
       "  'Suren Suror Putek',\n",
       "  'Zubeen Garg',\n",
       "  'Debojit Saha',\n",
       "  'List of Assamese films of the 2000s',\n",
       "  'Category:2007 films',\n",
       "  'Category:2007 romantic comedy films',\n",
       "  'Category:Indian films',\n",
       "  'Category:Assamese-language films',\n",
       "  'Category:Films set in Assam',\n",
       "  'Category:Indian romantic comedy films',\n",
       "  'Category:2000s Assamese-language films'],\n",
       " ['http://www.rupaliparda.com/english/history/History-list.htm',\n",
       "  'http://www.sentinelassam.com/saturday/saturday2.php?sec=17',\n",
       "  'http://www.assamspider.com/resources/3824-Profile-biography-personal-information.aspx'],\n",
       " '2020-10-17T09:25:00Z',\n",
       " 874]"
      ]
     },
     "execution_count": 50,
     "metadata": {
      "tags": []
     },
     "output_type": "execute_result"
    }
   ],
   "source": [
    "movies_in[10]"
   ]
  },
  {
   "cell_type": "code",
   "execution_count": 51,
   "metadata": {
    "executionInfo": {
     "elapsed": 718,
     "status": "ok",
     "timestamp": 1609332718009,
     "user": {
      "displayName": "ibrahim kone",
      "photoUrl": "",
      "userId": "02753287663478591702"
     },
     "user_tz": -60
    },
    "id": "yA6Agsb3qrRL"
   },
   "outputs": [],
   "source": [
    "import gc\n",
    "import json\n",
    "\n",
    "def find_movies(data_path, limit =None, save = True):\n",
    "  handler = WikiXmlHandler()\n",
    "  parser = xml.sax.make_parser()\n",
    "  parser.setContentHandler(handler)\n",
    "  # Iterate through compressed file\n",
    "  for i, line in enumerate(subprocess.Popen(['bzcat'], stdin = open(data_path), stdout = subprocess.PIPE).stdout):\n",
    "    try:\n",
    "      parser.feed(line)\n",
    "    except StopIteration:\n",
    "      break\n",
    "    if limit is not None and len(handler._movies) >= limit:\n",
    "      return handler._movies\n",
    "  if save:\n",
    "    partition_dir = '/gdrive/My Drive/wikipedia/final/'\n",
    "    p_str = data_path.split('-')[-1].split('.')[-2]\n",
    "    out_dir = partition_dir + f'{p_str}.ndjson'\n",
    "    with open(out_dir, 'w') as fout:\n",
    "      for movie in handler._movies:\n",
    "        fout.write(json.dumps(movie) + '\\n')\n",
    "        \n",
    "    print(f'{len(os.listdir(partition_dir))} files processed.', end = '\\r')\n",
    "  del handler\n",
    "  del parser\n",
    "  gc.collect()\n",
    "  return None"
   ]
  },
  {
   "cell_type": "code",
   "execution_count": 52,
   "metadata": {
    "colab": {
     "base_uri": "https://localhost:8080/"
    },
    "executionInfo": {
     "elapsed": 585,
     "status": "ok",
     "timestamp": 1609332725844,
     "user": {
      "displayName": "ibrahim kone",
      "photoUrl": "",
      "userId": "02753287663478591702"
     },
     "user_tz": -60
    },
    "id": "oJLL9IG6qEOB",
    "outputId": "9b2185c0-7243-463b-8d74-6636b4cc1bc1"
   },
   "outputs": [
    {
     "data": {
      "text/plain": [
       "4"
      ]
     },
     "execution_count": 52,
     "metadata": {
      "tags": []
     },
     "output_type": "execute_result"
    }
   ],
   "source": [
    "from multiprocessing import Pool \n",
    "import tqdm \n",
    "\n",
    "# List of lists to single list\n",
    "from itertools import chain\n",
    "\n",
    "# Sending keyword arguments in map\n",
    "from functools import partial\n",
    "os.cpu_count()"
   ]
  },
  {
   "cell_type": "code",
   "execution_count": null,
   "metadata": {
    "colab": {
     "base_uri": "https://localhost:8080/"
    },
    "executionInfo": {
     "elapsed": 1034,
     "status": "ok",
     "timestamp": 1609097603489,
     "user": {
      "displayName": "ibrahim kone",
      "photoUrl": "",
      "userId": "02753287663478591702"
     },
     "user_tz": -60
    },
    "id": "ItVToreWvSbF",
    "outputId": "4c3848c5-d146-4aad-e74f-4cb771a04a1c"
   },
   "outputs": [
    {
     "data": {
      "text/plain": [
       "['enwiki-20201220-pages-articles-multistream1.xml-p1p41242.bz2',\n",
       " 'enwiki-20201220-pages-articles-multistream2.xml-p41243p151573.bz2',\n",
       " 'enwiki-20201220-pages-articles-multistream3.xml-p151574p311329.bz2',\n",
       " 'enwiki-20201220-pages-articles-multistream4.xml-p311330p558391.bz2',\n",
       " 'enwiki-20201220-pages-articles-multistream5.xml-p558392p958045.bz2',\n",
       " 'enwiki-20201220-pages-articles-multistream6.xml-p958046p1483661.bz2',\n",
       " 'enwiki-20201220-pages-articles-multistream7.xml-p1483662p2134111.bz2',\n",
       " 'enwiki-20201220-pages-articles-multistream8.xml-p2134112p2936260.bz2',\n",
       " 'enwiki-20201220-pages-articles-multistream9.xml-p2936261p4045402.bz2',\n",
       " 'enwiki-20201220-pages-articles-multistream10.xml-p4045403p5399366.bz2',\n",
       " 'enwiki-20201220-pages-articles-multistream11.xml-p5399367p6899366.bz2',\n",
       " 'enwiki-20201220-pages-articles-multistream11.xml-p6899367p7054859.bz2',\n",
       " 'enwiki-20201220-pages-articles-multistream12.xml-p7054860p8554859.bz2',\n",
       " 'enwiki-20201220-pages-articles-multistream12.xml-p8554860p9172788.bz2',\n",
       " 'enwiki-20201220-pages-articles-multistream13.xml-p9172789p10672788.bz2',\n",
       " 'enwiki-20201220-pages-articles-multistream13.xml-p10672789p11659682.bz2',\n",
       " 'enwiki-20201220-pages-articles-multistream14.xml-p11659683p13159682.bz2',\n",
       " 'enwiki-20201220-pages-articles-multistream14.xml-p13159683p14324602.bz2',\n",
       " 'enwiki-20201220-pages-articles-multistream15.xml-p14324603p15824602.bz2',\n",
       " 'enwiki-20201220-pages-articles-multistream15.xml-p15824603p17324602.bz2',\n",
       " 'enwiki-20201220-pages-articles-multistream15.xml-p17324603p17460152.bz2',\n",
       " 'enwiki-20201220-pages-articles-multistream16.xml-p17460153p18960152.bz2',\n",
       " 'enwiki-20201220-pages-articles-multistream16.xml-p18960153p20460152.bz2',\n",
       " 'enwiki-20201220-pages-articles-multistream16.xml-p20460153p20570392.bz2',\n",
       " 'enwiki-20201220-pages-articles-multistream17.xml-p20570393p22070392.bz2',\n",
       " 'enwiki-20201220-pages-articles-multistream17.xml-p22070393p23570392.bz2',\n",
       " 'enwiki-20201220-pages-articles-multistream17.xml-p23570393p23716197.bz2',\n",
       " 'enwiki-20201220-pages-articles-multistream18.xml-p23716198p25216197.bz2',\n",
       " 'enwiki-20201220-pages-articles-multistream18.xml-p25216198p26716197.bz2',\n",
       " 'enwiki-20201220-pages-articles-multistream18.xml-p26716198p27121850.bz2',\n",
       " 'enwiki-20201220-pages-articles-multistream19.xml-p27121851p28621850.bz2',\n",
       " 'enwiki-20201220-pages-articles-multistream19.xml-p28621851p30121850.bz2',\n",
       " 'enwiki-20201220-pages-articles-multistream19.xml-p30121851p31308442.bz2',\n",
       " 'enwiki-20201220-pages-articles-multistream20.xml-p31308443p32808442.bz2',\n",
       " 'enwiki-20201220-pages-articles-multistream20.xml-p32808443p34308442.bz2',\n",
       " 'enwiki-20201220-pages-articles-multistream20.xml-p34308443p35522432.bz2',\n",
       " 'enwiki-20201220-pages-articles-multistream21.xml-p35522433p37022432.bz2',\n",
       " 'enwiki-20201220-pages-articles-multistream21.xml-p37022433p38522432.bz2',\n",
       " 'enwiki-20201220-pages-articles-multistream21.xml-p38522433p39996245.bz2',\n",
       " 'enwiki-20201220-pages-articles-multistream22.xml-p39996246p41496245.bz2',\n",
       " 'enwiki-20201220-pages-articles-multistream22.xml-p41496246p42996245.bz2',\n",
       " 'enwiki-20201220-pages-articles-multistream22.xml-p42996246p44496245.bz2',\n",
       " 'enwiki-20201220-pages-articles-multistream22.xml-p44496246p44788941.bz2',\n",
       " 'enwiki-20201220-pages-articles-multistream23.xml-p44788942p46288941.bz2',\n",
       " 'enwiki-20201220-pages-articles-multistream23.xml-p46288942p47788941.bz2',\n",
       " 'enwiki-20201220-pages-articles-multistream23.xml-p47788942p49288941.bz2',\n",
       " 'enwiki-20201220-pages-articles-multistream23.xml-p49288942p50564553.bz2',\n",
       " 'enwiki-20201220-pages-articles-multistream24.xml-p50564554p52064553.bz2',\n",
       " 'enwiki-20201220-pages-articles-multistream24.xml-p52064554p53564553.bz2',\n",
       " 'enwiki-20201220-pages-articles-multistream24.xml-p53564554p55064553.bz2',\n",
       " 'enwiki-20201220-pages-articles-multistream24.xml-p55064554p56564553.bz2',\n",
       " 'enwiki-20201220-pages-articles-multistream24.xml-p56564554p57025655.bz2',\n",
       " 'enwiki-20201220-pages-articles-multistream25.xml-p57025656p58525655.bz2',\n",
       " 'enwiki-20201220-pages-articles-multistream25.xml-p58525656p60025655.bz2',\n",
       " 'enwiki-20201220-pages-articles-multistream25.xml-p60025656p61525655.bz2',\n",
       " 'enwiki-20201220-pages-articles-multistream25.xml-p61525656p62585850.bz2',\n",
       " 'enwiki-20201220-pages-articles-multistream26.xml-p62585851p63975909.bz2',\n",
       " 'enwiki-20201220-pages-articles-multistream27.xml-p63975910p65475909.bz2',\n",
       " 'enwiki-20201220-pages-articles-multistream27.xml-p65475910p66163728.bz2',\n",
       " 'enwiki-20201220-pages-articles1.xml-p1p41242.bz2',\n",
       " 'enwiki-20201220-pages-articles2.xml-p41243p151573.bz2',\n",
       " 'enwiki-20201220-pages-articles3.xml-p151574p311329.bz2',\n",
       " 'enwiki-20201220-pages-articles4.xml-p311330p558391.bz2',\n",
       " 'enwiki-20201220-pages-articles5.xml-p558392p958045.bz2',\n",
       " 'enwiki-20201220-pages-articles6.xml-p958046p1483661.bz2',\n",
       " 'enwiki-20201220-pages-articles7.xml-p1483662p2134111.bz2',\n",
       " 'enwiki-20201220-pages-articles8.xml-p2134112p2936260.bz2',\n",
       " 'enwiki-20201220-pages-articles9.xml-p2936261p4045402.bz2',\n",
       " 'enwiki-20201220-pages-articles10.xml-p4045403p5399366.bz2',\n",
       " 'enwiki-20201220-pages-articles11.xml-p5399367p6899366.bz2',\n",
       " 'enwiki-20201220-pages-articles11.xml-p6899367p7054859.bz2',\n",
       " 'enwiki-20201220-pages-articles12.xml-p7054860p8554859.bz2',\n",
       " 'enwiki-20201220-pages-articles12.xml-p8554860p9172788.bz2',\n",
       " 'enwiki-20201220-pages-articles13.xml-p9172789p10672788.bz2',\n",
       " 'enwiki-20201220-pages-articles13.xml-p10672789p11659682.bz2',\n",
       " 'enwiki-20201220-pages-articles14.xml-p11659683p13159682.bz2',\n",
       " 'enwiki-20201220-pages-articles14.xml-p13159683p14324602.bz2',\n",
       " 'enwiki-20201220-pages-articles15.xml-p14324603p15824602.bz2',\n",
       " 'enwiki-20201220-pages-articles15.xml-p15824603p17324602.bz2',\n",
       " 'enwiki-20201220-pages-articles15.xml-p17324603p17460152.bz2',\n",
       " 'enwiki-20201220-pages-articles16.xml-p17460153p18960152.bz2',\n",
       " 'enwiki-20201220-pages-articles16.xml-p18960153p20460152.bz2',\n",
       " 'enwiki-20201220-pages-articles16.xml-p20460153p20570392.bz2',\n",
       " 'enwiki-20201220-pages-articles17.xml-p20570393p22070392.bz2',\n",
       " 'enwiki-20201220-pages-articles17.xml-p22070393p23570392.bz2',\n",
       " 'enwiki-20201220-pages-articles17.xml-p23570393p23716197.bz2',\n",
       " 'enwiki-20201220-pages-articles18.xml-p23716198p25216197.bz2',\n",
       " 'enwiki-20201220-pages-articles18.xml-p25216198p26716197.bz2',\n",
       " 'enwiki-20201220-pages-articles18.xml-p26716198p27121850.bz2',\n",
       " 'enwiki-20201220-pages-articles19.xml-p27121851p28621850.bz2',\n",
       " 'enwiki-20201220-pages-articles19.xml-p28621851p30121850.bz2',\n",
       " 'enwiki-20201220-pages-articles19.xml-p30121851p31308442.bz2',\n",
       " 'enwiki-20201220-pages-articles20.xml-p31308443p32808442.bz2',\n",
       " 'enwiki-20201220-pages-articles20.xml-p32808443p34308442.bz2',\n",
       " 'enwiki-20201220-pages-articles20.xml-p34308443p35522432.bz2',\n",
       " 'enwiki-20201220-pages-articles21.xml-p35522433p37022432.bz2',\n",
       " 'enwiki-20201220-pages-articles21.xml-p37022433p38522432.bz2',\n",
       " 'enwiki-20201220-pages-articles21.xml-p38522433p39996245.bz2',\n",
       " 'enwiki-20201220-pages-articles22.xml-p39996246p41496245.bz2',\n",
       " 'enwiki-20201220-pages-articles22.xml-p41496246p42996245.bz2',\n",
       " 'enwiki-20201220-pages-articles22.xml-p42996246p44496245.bz2',\n",
       " 'enwiki-20201220-pages-articles22.xml-p44496246p44788941.bz2',\n",
       " 'enwiki-20201220-pages-articles23.xml-p44788942p46288941.bz2',\n",
       " 'enwiki-20201220-pages-articles23.xml-p46288942p47788941.bz2',\n",
       " 'enwiki-20201220-pages-articles23.xml-p47788942p49288941.bz2',\n",
       " 'enwiki-20201220-pages-articles23.xml-p49288942p50564553.bz2',\n",
       " 'enwiki-20201220-pages-articles24.xml-p50564554p52064553.bz2',\n",
       " 'enwiki-20201220-pages-articles24.xml-p52064554p53564553.bz2',\n",
       " 'enwiki-20201220-pages-articles24.xml-p53564554p55064553.bz2',\n",
       " 'enwiki-20201220-pages-articles24.xml-p55064554p56564553.bz2',\n",
       " 'enwiki-20201220-pages-articles24.xml-p56564554p57025655.bz2',\n",
       " 'enwiki-20201220-pages-articles25.xml-p57025656p58525655.bz2',\n",
       " 'enwiki-20201220-pages-articles25.xml-p58525656p60025655.bz2',\n",
       " 'enwiki-20201220-pages-articles25.xml-p60025656p61525655.bz2',\n",
       " 'enwiki-20201220-pages-articles25.xml-p61525656p62585850.bz2',\n",
       " 'enwiki-20201220-pages-articles26.xml-p62585851p63975909.bz2',\n",
       " 'enwiki-20201220-pages-articles27.xml-p63975910p65475909.bz2',\n",
       " 'enwiki-20201220-pages-articles27.xml-p65475910p66163728.bz2']"
      ]
     },
     "execution_count": 53,
     "metadata": {
      "tags": []
     },
     "output_type": "execute_result"
    }
   ],
   "source": [
    "files_to_download = [file[0] for file in files if '.xml-p' in file[0]]\n",
    "files_to_download"
   ]
  },
  {
   "cell_type": "code",
   "execution_count": 53,
   "metadata": {
    "colab": {
     "base_uri": "https://localhost:8080/"
    },
    "executionInfo": {
     "elapsed": 639,
     "status": "ok",
     "timestamp": 1609332742020,
     "user": {
      "displayName": "ibrahim kone",
      "photoUrl": "",
      "userId": "02753287663478591702"
     },
     "user_tz": -60
    },
    "id": "bTiknzyHug4L",
    "outputId": "8efc9fb1-42ff-4d53-edd6-07ec0ee986cf"
   },
   "outputs": [
    {
     "data": {
      "text/plain": [
       "(118,\n",
       " '/root/.keras/datasets/enwiki-20201220-pages-articles27.xml-p65475910p66163728.bz2')"
      ]
     },
     "execution_count": 53,
     "metadata": {
      "tags": []
     },
     "output_type": "execute_result"
    }
   ],
   "source": [
    "partitions = [file for file in data_paths if 'xml-p' in file]\n",
    "len(partitions), partitions[-1]"
   ]
  },
  {
   "cell_type": "code",
   "execution_count": 51,
   "metadata": {
    "colab": {
     "base_uri": "https://localhost:8080/"
    },
    "executionInfo": {
     "elapsed": 958,
     "status": "ok",
     "timestamp": 1609320673594,
     "user": {
      "displayName": "ibrahim kone",
      "photoUrl": "",
      "userId": "02753287663478591702"
     },
     "user_tz": -60
    },
    "id": "OhbLgXVu_E3y",
    "outputId": "2a8b3055-1920-4984-83e8-bff389e06281"
   },
   "outputs": [
    {
     "data": {
      "text/plain": [
       "[3, 2, 8]"
      ]
     },
     "execution_count": 51,
     "metadata": {
      "tags": []
     },
     "output_type": "execute_result"
    }
   ],
   "source": [
    "a=[2,3,2,8]\n",
    "a[1:]"
   ]
  },
  {
   "cell_type": "code",
   "execution_count": 54,
   "metadata": {
    "colab": {
     "base_uri": "https://localhost:8080/"
    },
    "executionInfo": {
     "elapsed": 605,
     "status": "ok",
     "timestamp": 1609332749329,
     "user": {
      "displayName": "ibrahim kone",
      "photoUrl": "",
      "userId": "02753287663478591702"
     },
     "user_tz": -60
    },
    "id": "7PM6m2cqsWqp",
    "outputId": "21921ab7-3f7d-4e5b-caad-f99a49ced804"
   },
   "outputs": [
    {
     "name": "stdout",
     "output_type": "stream",
     "text": [
      "75\n"
     ]
    }
   ],
   "source": [
    "partitions=partitions[43:]\n",
    "print(len(partitions))"
   ]
  },
  {
   "cell_type": "code",
   "execution_count": 1,
   "metadata": {
    "colab": {
     "base_uri": "https://localhost:8080/"
    },
    "executionInfo": {
     "elapsed": 758,
     "status": "ok",
     "timestamp": 1609076160882,
     "user": {
      "displayName": "ibrahim kone",
      "photoUrl": "",
      "userId": "02753287663478591702"
     },
     "user_tz": -60
    },
    "id": "Gwb-oNxBwl0_",
    "outputId": "e7a5c3ac-b7c2-4c5b-cfc4-74a99d6b45e5"
   },
   "outputs": [],
   "source": [
    "#data_paths"
   ]
  },
  {
   "cell_type": "code",
   "execution_count": null,
   "metadata": {
    "colab": {
     "base_uri": "https://localhost:8080/"
    },
    "executionInfo": {
     "elapsed": 958,
     "status": "ok",
     "timestamp": 1609097651521,
     "user": {
      "displayName": "ibrahim kone",
      "photoUrl": "",
      "userId": "02753287663478591702"
     },
     "user_tz": -60
    },
    "id": "JV4_Px9DwKpj",
    "outputId": "1c298ea0-a7a9-4261-98ff-7a5376300ae8"
   },
   "outputs": [
    {
     "data": {
      "text/plain": [
       "118"
      ]
     },
     "execution_count": 56,
     "metadata": {
      "tags": []
     },
     "output_type": "execute_result"
    }
   ],
   "source": [
    "len(data_paths)"
   ]
  },
  {
   "cell_type": "code",
   "execution_count": null,
   "metadata": {
    "id": "H6U3fa-0uOMP"
   },
   "outputs": [],
   "source": [
    "# Create a pool of workers to execute processes\n",
    "pool = Pool(processes = 32)\n",
    "\n",
    "start = timer()\n",
    "\n",
    "# Map (service, tasks), applies function to each partition\n",
    "results = pool.map(find_movies, partitions)\n",
    "\n",
    "pool.close()\n",
    "pool.join()\n",
    "\n",
    "end = timer()\n",
    "print(f'{end - start} seconds elapsed.')"
   ]
  },
  {
   "cell_type": "code",
   "execution_count": 5,
   "metadata": {
    "executionInfo": {
     "elapsed": 1052,
     "status": "ok",
     "timestamp": 1609411849573,
     "user": {
      "displayName": "ibrahim kone",
      "photoUrl": "",
      "userId": "02753287663478591702"
     },
     "user_tz": -60
    },
    "id": "wLV-OUaqVNF3"
   },
   "outputs": [],
   "source": [
    "def read_data(file_path):\n",
    "  data = []\n",
    "  # Open the file and load in json\n",
    "  with open(file_path, 'r') as fin:\n",
    "    for l in fin.readlines():\n",
    "      data.append(json.loads(l))\n",
    "  return data"
   ]
  },
  {
   "cell_type": "code",
   "execution_count": 6,
   "metadata": {
    "colab": {
     "base_uri": "https://localhost:8080/"
    },
    "executionInfo": {
     "elapsed": 10596,
     "status": "ok",
     "timestamp": 1609411865042,
     "user": {
      "displayName": "ibrahim kone",
      "photoUrl": "",
      "userId": "02753287663478591702"
     },
     "user_tz": -60
    },
    "id": "0PkH4xx8VjAt",
    "outputId": "cd3ab18c-dbc7-4180-e19e-6d19b0349f06"
   },
   "outputs": [
    {
     "name": "stdout",
     "output_type": "stream",
     "text": [
      "Found 151331 moviess in 10 seconds.\n"
     ]
    }
   ],
   "source": [
    "from multiprocessing.dummy import Pool as Threadpool\n",
    "from itertools import chain\n",
    "from timeit import default_timer as timer\n",
    "import json\n",
    "\n",
    "start = timer()\n",
    "\n",
    "# List of files to read in\n",
    "saved_files = ['/gdrive/My Drive/wikipedia/final/' + x for x in os.listdir('/gdrive/My Drive/wikipedia/final/')]\n",
    "\n",
    "# Create a threadpool for reading in files\n",
    "threadpool = Threadpool(processes = 10)\n",
    "\n",
    "# Read in the files as a list of lists\n",
    "results = threadpool.map(read_data, saved_files)\n",
    "\n",
    "# Flatten the list of lists to a single list\n",
    "movie_list = list(chain(*results))\n",
    "\n",
    "end = timer()\n",
    "\n",
    "print(f'Found {len(movie_list)} movies in {round(end - start)} seconds.')"
   ]
  },
  {
   "cell_type": "code",
   "execution_count": 7,
   "metadata": {
    "colab": {
     "base_uri": "https://localhost:8080/"
    },
    "executionInfo": {
     "elapsed": 5514,
     "status": "ok",
     "timestamp": 1609411890845,
     "user": {
      "displayName": "ibrahim kone",
      "photoUrl": "",
      "userId": "02753287663478591702"
     },
     "user_tz": -60
    },
    "id": "cIHWJOfqWAV6",
    "outputId": "ad448706-cf00-4831-a5f7-179f29d73954"
   },
   "outputs": [
    {
     "name": "stdout",
     "output_type": "stream",
     "text": [
      "movies saved.\n"
     ]
    }
   ],
   "source": [
    "if not os.path.exists(os.getcwd() + '/data/movies_wiki.ndjson'):\n",
    "  with open('/gdrive/My Drive/wikipedia/data/movies_wiki.ndjson', 'wt') as fout:\n",
    "    for movie in movie_list:\n",
    "      fout.write(json.dumps(movie) + '\\n')\n",
    "  print('movies saved.')\n",
    "else:\n",
    "    print('Files already saved.')"
   ]
  }
 ],
 "metadata": {
  "colab": {
   "authorship_tag": "ABX9TyML21+uPKWGRqgMi7JVG2lz",
   "machine_shape": "hm",
   "name": "movie_recommadation.ipynb",
   "provenance": []
  },
  "kernelspec": {
   "display_name": "Python 3",
   "language": "python",
   "name": "python3"
  },
  "language_info": {
   "codemirror_mode": {
    "name": "ipython",
    "version": 3
   },
   "file_extension": ".py",
   "mimetype": "text/x-python",
   "name": "python",
   "nbconvert_exporter": "python",
   "pygments_lexer": "ipython3",
   "version": "3.8.3"
  }
 },
 "nbformat": 4,
 "nbformat_minor": 1
}
